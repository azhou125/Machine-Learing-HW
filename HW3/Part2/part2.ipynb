{
 "cells": [
  {
   "cell_type": "code",
   "execution_count": 1,
   "metadata": {},
   "outputs": [],
   "source": [
    "import numpy as np\n",
    "import pandas as pd\n",
    "from sklearn.cluster import KMeans\n",
    "import matplotlib.pyplot as plt\n",
    "from sklearn import metrics\n",
    "from scipy.spatial.distance import cdist"
   ]
  },
  {
   "cell_type": "markdown",
   "metadata": {},
   "source": [
    "## (a)"
   ]
  },
  {
   "cell_type": "code",
   "execution_count": 2,
   "metadata": {},
   "outputs": [],
   "source": [
    "data1 = np.load(\"science2k-doc-word.npy\")"
   ]
  },
  {
   "cell_type": "code",
   "execution_count": 3,
   "metadata": {},
   "outputs": [],
   "source": [
    "data2 = pd.read_csv(\"science2k-vocab.txt\", names = [\"vocabulary\"])"
   ]
  },
  {
   "cell_type": "code",
   "execution_count": 4,
   "metadata": {},
   "outputs": [
    {
     "data": {
      "text/html": [
       "<div>\n",
       "<style scoped>\n",
       "    .dataframe tbody tr th:only-of-type {\n",
       "        vertical-align: middle;\n",
       "    }\n",
       "\n",
       "    .dataframe tbody tr th {\n",
       "        vertical-align: top;\n",
       "    }\n",
       "\n",
       "    .dataframe thead th {\n",
       "        text-align: right;\n",
       "    }\n",
       "</style>\n",
       "<table border=\"1\" class=\"dataframe\">\n",
       "  <thead>\n",
       "    <tr style=\"text-align: right;\">\n",
       "      <th></th>\n",
       "      <th>vocabulary</th>\n",
       "    </tr>\n",
       "  </thead>\n",
       "  <tbody>\n",
       "    <tr>\n",
       "      <th>0</th>\n",
       "      <td>fig</td>\n",
       "    </tr>\n",
       "    <tr>\n",
       "      <th>1</th>\n",
       "      <td>cells</td>\n",
       "    </tr>\n",
       "    <tr>\n",
       "      <th>2</th>\n",
       "      <td>science</td>\n",
       "    </tr>\n",
       "    <tr>\n",
       "      <th>3</th>\n",
       "      <td>two</td>\n",
       "    </tr>\n",
       "    <tr>\n",
       "      <th>4</th>\n",
       "      <td>end</td>\n",
       "    </tr>\n",
       "  </tbody>\n",
       "</table>\n",
       "</div>"
      ],
      "text/plain": [
       "  vocabulary\n",
       "0        fig\n",
       "1      cells\n",
       "2    science\n",
       "3        two\n",
       "4        end"
      ]
     },
     "execution_count": 4,
     "metadata": {},
     "output_type": "execute_result"
    }
   ],
   "source": [
    "data2.head()"
   ]
  },
  {
   "cell_type": "code",
   "execution_count": 5,
   "metadata": {},
   "outputs": [],
   "source": [
    "data3 = pd.read_csv(\"science2k-titles.txt\", names = [\"titles\"])"
   ]
  },
  {
   "cell_type": "code",
   "execution_count": 6,
   "metadata": {},
   "outputs": [
    {
     "data": {
      "text/html": [
       "<div>\n",
       "<style scoped>\n",
       "    .dataframe tbody tr th:only-of-type {\n",
       "        vertical-align: middle;\n",
       "    }\n",
       "\n",
       "    .dataframe tbody tr th {\n",
       "        vertical-align: top;\n",
       "    }\n",
       "\n",
       "    .dataframe thead th {\n",
       "        text-align: right;\n",
       "    }\n",
       "</style>\n",
       "<table border=\"1\" class=\"dataframe\">\n",
       "  <thead>\n",
       "    <tr style=\"text-align: right;\">\n",
       "      <th></th>\n",
       "      <th>titles</th>\n",
       "    </tr>\n",
       "  </thead>\n",
       "  <tbody>\n",
       "    <tr>\n",
       "      <th>0</th>\n",
       "      <td>Archaeology in the Holy Land</td>\n",
       "    </tr>\n",
       "    <tr>\n",
       "      <th>1</th>\n",
       "      <td>Baedeker's Guide, or Just Plain 'Trouble'?</td>\n",
       "    </tr>\n",
       "    <tr>\n",
       "      <th>2</th>\n",
       "      <td>Duchamp's L.H.O.O.Q.-From 1919 or 1930?</td>\n",
       "    </tr>\n",
       "    <tr>\n",
       "      <th>3</th>\n",
       "      <td>Resistance to Bt Toxins</td>\n",
       "    </tr>\n",
       "    <tr>\n",
       "      <th>4</th>\n",
       "      <td>Corrections and Clarifications: Commercializat...</td>\n",
       "    </tr>\n",
       "  </tbody>\n",
       "</table>\n",
       "</div>"
      ],
      "text/plain": [
       "                                              titles\n",
       "0                       Archaeology in the Holy Land\n",
       "1         Baedeker's Guide, or Just Plain 'Trouble'?\n",
       "2            Duchamp's L.H.O.O.Q.-From 1919 or 1930?\n",
       "3                            Resistance to Bt Toxins\n",
       "4  Corrections and Clarifications: Commercializat..."
      ]
     },
     "execution_count": 6,
     "metadata": {},
     "output_type": "execute_result"
    }
   ],
   "source": [
    "data3.head()"
   ]
  },
  {
   "cell_type": "code",
   "execution_count": 9,
   "metadata": {
    "scrolled": true
   },
   "outputs": [],
   "source": [
    "dist= []\n",
    "K = range(1,21)\n",
    "for k in K:\n",
    "    kmeanModel = KMeans(n_clusters=k).fit(data1)\n",
    "    kmeanModel.fit(data1)\n",
    "    dist.append(sum(np.min(cdist(data1, kmeanModel.cluster_centers_, 'euclidean'), axis=1)) / data1.shape[0])"
   ]
  },
  {
   "cell_type": "code",
   "execution_count": 10,
   "metadata": {
    "scrolled": true
   },
   "outputs": [
    {
     "data": {
      "image/png": "[encoded data removed]",
      "text/plain": [
       "<matplotlib.figure.Figure at 0xbf3f470>"
      ]
     },
     "metadata": {},
     "output_type": "display_data"
    }
   ],
   "source": [
    "# Plot the elbow\n",
    "plt.plot(K, dist, 'bx-')\n",
    "plt.xlabel('k')\n",
    "plt.ylabel('Distortion')\n",
    "plt.title('The Elbow Method showing the optimal k')\n",
    "plt.show()"
   ]
  },
  {
   "cell_type": "code",
   "execution_count": 11,
   "metadata": {},
   "outputs": [],
   "source": [
    "kmeans = KMeans(n_clusters=3, random_state=0).fit(data1)"
   ]
  },
  {
   "cell_type": "code",
   "execution_count": 12,
   "metadata": {},
   "outputs": [],
   "source": [
    "mean = data1.mean(0)"
   ]
  },
  {
   "cell_type": "code",
   "execution_count": 13,
   "metadata": {},
   "outputs": [
    {
     "data": {
      "text/plain": [
       "array([ 6.12158107,  3.39409491,  9.01546653, ..., -0.5040002 ,\n",
       "       -0.58283004, -0.5696959 ])"
      ]
     },
     "execution_count": 13,
     "metadata": {},
     "output_type": "execute_result"
    }
   ],
   "source": [
    "mean"
   ]
  },
  {
   "cell_type": "code",
   "execution_count": 14,
   "metadata": {},
   "outputs": [],
   "source": [
    "cluster_centers = kmeans.cluster_centers_"
   ]
  },
  {
   "cell_type": "code",
   "execution_count": 16,
   "metadata": {},
   "outputs": [],
   "source": [
    "def f(a,N): \n",
    "    return np.argsort(a)[::-1][:N]"
   ]
  },
  {
   "cell_type": "code",
   "execution_count": 17,
   "metadata": {},
   "outputs": [
    {
     "name": "stdout",
     "output_type": "stream",
     "text": [
      "[  0   7  96  17  39   1  99 154  20  16]\n",
      "[  0  64  20  24 403 358 129  59 484 141]\n",
      "[  7   5   1  23   0  22  17  56 161  51]\n"
     ]
    }
   ],
   "source": [
    "index_list_for_clusters = []\n",
    "for cluster_center in cluster_centers:\n",
    "    diffs = abs(np.subtract(cluster_center,mean))\n",
    "    index =  f(diffs,10)\n",
    "    index_list_for_clusters.append(index)\n",
    "    print index"
   ]
  },
  {
   "cell_type": "code",
   "execution_count": 18,
   "metadata": {},
   "outputs": [
    {
     "name": "stdout",
     "output_type": "stream",
     "text": [
      "      vocabulary\n",
      "0            fig\n",
      "7        protein\n",
      "96        values\n",
      "17          gene\n",
      "39   temperature\n",
      "1          cells\n",
      "99         range\n",
      "154        shows\n",
      "20      observed\n",
      "16       surface\n",
      "         vocabulary\n",
      "0               fig\n",
      "64          reports\n",
      "20         observed\n",
      "24            shown\n",
      "403  correspondence\n",
      "358       addressed\n",
      "129    respectively\n",
      "59         function\n",
      "484           email\n",
      "141      consistent\n",
      "     vocabulary\n",
      "7       protein\n",
      "5          cell\n",
      "1         cells\n",
      "23   expression\n",
      "0           fig\n",
      "22     proteins\n",
      "17         gene\n",
      "56     specific\n",
      "161   expressed\n",
      "51      binding\n"
     ]
    }
   ],
   "source": [
    "for index_list in index_list_for_clusters:\n",
    "    print data2.iloc[index_list]"
   ]
  },
  {
   "cell_type": "code",
   "execution_count": 23,
   "metadata": {},
   "outputs": [],
   "source": [
    "from sklearn.neighbors import NearestNeighbors\n",
    "ten_nn = NearestNeighbors(n_neighbors=10)\n",
    "ten_nn.fit(data1)\n",
    "\n",
    "distances, indices = ten_nn.kneighbors(cluster_centers)"
   ]
  },
  {
   "cell_type": "code",
   "execution_count": 24,
   "metadata": {},
   "outputs": [
    {
     "data": {
      "text/plain": [
       "array([[ 519, 1281,  574,   90,  302,  123,  122,  124,  139, 1283],\n",
       "       [ 519,  574,  453,  499,    0,   90,  123,  122,  124,  777],\n",
       "       [ 997,  968,  302,  519,  574,  367,  656, 1214,  541, 1239]], dtype=int64)"
      ]
     },
     "execution_count": 24,
     "metadata": {},
     "output_type": "execute_result"
    }
   ],
   "source": [
    "indices"
   ]
  },
  {
   "cell_type": "code",
   "execution_count": 25,
   "metadata": {},
   "outputs": [
    {
     "name": "stdout",
     "output_type": "stream",
     "text": [
      "[['Algorithmic Gladiators Vie for Digital Glory']\n",
      " ['The Formation of Chondrules at High Gas Pressures in the Solar Nebula']\n",
      " ['Reopening the Darkest Chapter in German Science']\n",
      " ['Heretical Idea Faces Its Sternest Test']\n",
      " ['Thermal, Catalytic, Regiospecific Functionalization of Alkanes']\n",
      " [ \"Corrections and Clarifications: Charon's First Detailed Spectra Hold Many Surprises\"]\n",
      " [ 'Corrections and Clarifications: A Short Fe-Fe Distance in Peroxodiferric Ferritin: Control of Fe Substrate versus Cofactor Decay?']\n",
      " ['Corrections and Clarifications: Unearthing Monuments of the Yarmukians']\n",
      " [ 'Population Dynamical Consequences of Climate Change for a Small Temperate Songbird']\n",
      " ['Nitric Acid Trihydrate (NAT) in Polar Stratospheric Clouds']]\n",
      "[['Algorithmic Gladiators Vie for Digital Glory']\n",
      " ['Reopening the Darkest Chapter in German Science']\n",
      " ['Information Technology Takes a Different Tack']\n",
      " ['National Academy of Sciences Elects New Members']\n",
      " ['Archaeology in the Holy Land']\n",
      " ['Heretical Idea Faces Its Sternest Test']\n",
      " [ \"Corrections and Clarifications: Charon's First Detailed Spectra Hold Many Surprises\"]\n",
      " [ 'Corrections and Clarifications: A Short Fe-Fe Distance in Peroxodiferric Ferritin: Control of Fe Substrate versus Cofactor Decay?']\n",
      " ['Corrections and Clarifications: Unearthing Monuments of the Yarmukians']\n",
      " ['Divining Diet and Disease from DNA']]\n",
      "[[ 'Requirement of NAD and SIR2 for Life-Span Extension by Calorie Restriction in Saccharomyces Cerevisiae']\n",
      " [ 'Suppression of Mutations in Mitochondrial DNA by tRNAs Imported from the Cytoplasm']\n",
      " ['Thermal, Catalytic, Regiospecific Functionalization of Alkanes']\n",
      " ['Algorithmic Gladiators Vie for Digital Glory']\n",
      " ['Reopening the Darkest Chapter in German Science']\n",
      " [ 'Similar Requirements of a Plant Symbiont and a Mammalian Pathogen for Prolonged Intracellular Survival']\n",
      " ['Mothers Setting Boundaries']\n",
      " ['Turning up the Heat on Histoplasma capsulatum']\n",
      " [ 'Distinct Classes of Yeast Promoters Revealed by Differential TAF Recruitment']\n",
      " ['An Arresting Start for MAPK']]\n"
     ]
    }
   ],
   "source": [
    "for index_list in indices:\n",
    "    print data3.iloc[index_list].values"
   ]
  },
  {
   "cell_type": "markdown",
   "metadata": {},
   "source": [
    "## (b)"
   ]
  },
  {
   "cell_type": "code",
   "execution_count": 26,
   "metadata": {},
   "outputs": [],
   "source": [
    "data4 = np.load(\"science2k-word-doc.npy\")"
   ]
  },
  {
   "cell_type": "code",
   "execution_count": 27,
   "metadata": {},
   "outputs": [
    {
     "data": {
      "text/plain": [
       "array([[-6.755691  , -6.755691  , -6.755691  , ...,  4.064107  ,\n",
       "         5.093713  ,  3.707441  ],\n",
       "       [-4.028205  , -4.028205  , -4.028205  , ..., -4.028205  ,\n",
       "        -4.028205  , -4.028205  ],\n",
       "       [-0.03370464, -1.132184  , -0.03370464, ...,  0.2539608 ,\n",
       "         1.57568   ,  0.6594092 ],\n",
       "       ..., \n",
       "       [-0.1301101 , -0.1301101 , -0.1301101 , ..., -0.1301101 ,\n",
       "        -0.1301101 , -0.1301101 ],\n",
       "       [-0.05128021, -0.05128021, -0.05128021, ..., -0.05128021,\n",
       "        -0.05128021, -0.05128021],\n",
       "       [-0.06441435, -0.06441435, -0.06441435, ..., -0.06441435,\n",
       "        -0.06441435, -0.06441435]])"
      ]
     },
     "execution_count": 27,
     "metadata": {},
     "output_type": "execute_result"
    }
   ],
   "source": [
    "data4"
   ]
  },
  {
   "cell_type": "code",
   "execution_count": 28,
   "metadata": {},
   "outputs": [],
   "source": [
    "distortions = []\n",
    "K = range(1,21)\n",
    "for k in K:\n",
    "    kmeanModel = KMeans(n_clusters=k).fit(data4)\n",
    "    kmeanModel.fit(data4)\n",
    "    distortions.append(sum(np.min(cdist(data4, kmeanModel.cluster_centers_, 'euclidean'), axis=1)) / data4.shape[0])"
   ]
  },
  {
   "cell_type": "code",
   "execution_count": 29,
   "metadata": {},
   "outputs": [
    {
     "data": {
      "image/png": "[encoded data removed]",
      "text/plain": [
       "<matplotlib.figure.Figure at 0xc139080>"
      ]
     },
     "metadata": {},
     "output_type": "display_data"
    }
   ],
   "source": [
    "# Plot the elbow\n",
    "plt.plot(K, distortions, 'bx-')\n",
    "plt.xlabel('k')\n",
    "plt.ylabel('Distortion')\n",
    "plt.title('The Elbow Method showing the optimal k')\n",
    "plt.show()"
   ]
  },
  {
   "cell_type": "code",
   "execution_count": 30,
   "metadata": {},
   "outputs": [],
   "source": [
    "kmeans = KMeans(n_clusters=4, random_state=0).fit(data4)"
   ]
  },
  {
   "cell_type": "code",
   "execution_count": 31,
   "metadata": {},
   "outputs": [],
   "source": [
    "mean = data4.mean(0)\n",
    "cluster_centers = kmeans.cluster_centers_"
   ]
  },
  {
   "cell_type": "code",
   "execution_count": 32,
   "metadata": {},
   "outputs": [
    {
     "name": "stdout",
     "output_type": "stream",
     "text": [
      "[ 147 1069 1346  208  372  145  209   97 1070  786]\n",
      "[ 516  439  167  892  740  610  494  217  165 1063]\n",
      "[439 461 837 325 717 181 216 892 217 144]\n",
      "[ 436  988  216   15 1301  437   18  634 1222  266]\n"
     ]
    }
   ],
   "source": [
    "index_list_for_clusters = []\n",
    "for cluster_center in cluster_centers:\n",
    "    diffs = abs(np.subtract(cluster_center,mean))\n",
    "    index =  f(diffs,10)\n",
    "    index_list_for_clusters.append(index)\n",
    "    print index"
   ]
  },
  {
   "cell_type": "code",
   "execution_count": 33,
   "metadata": {},
   "outputs": [
    {
     "name": "stdout",
     "output_type": "stream",
     "text": [
      "                                                 titles\n",
      "147   Up, Down, and Sideways: How Other Research Age...\n",
      "1069  Presidential Forum: Gore and Bush Offer Their ...\n",
      "1346    Clinton's Science Legacy: Ending on a High Note\n",
      "208   Patients' Voices: The Powerful Sound in the St...\n",
      "372              Bringing Science to the National Parks\n",
      "145                        Balancing the Science Budget\n",
      "209                                A Time for Restraint\n",
      "97           Oversight Mechanisms for Clinical Research\n",
      "1070  Math and Science Education: Training the Teachers\n",
      "786                    The Shots Heard 'Round the World\n",
      "                                                 titles\n",
      "516   Noxa, a BH3-Only Member of the Bcl-2 Family an...\n",
      "439   Positional Syntenic Cloning and Functional Cha...\n",
      "167   Central Role for G Protein-Coupled Phosphoinos...\n",
      "892   Regulated Cleavage of a Contact-Mediated Axon ...\n",
      "740   Role of the Mouse ank Gene in Control of Tissu...\n",
      "610   Kinesin Superfamily Motor Protein KIF17 and mL...\n",
      "494   Requirement of JNK for Stress-Induced Activati...\n",
      "217   An Oral Vaccine against NMDAR1 with Efficacy i...\n",
      "165   Function of PI3Kg in Thymocyte Development, T ...\n",
      "1063  Regulation of STAT3 by Direct Binding to the R...\n",
      "                                                titles\n",
      "439  Positional Syntenic Cloning and Functional Cha...\n",
      "461  Architecture of RNA Polymerase II and Implicat...\n",
      "837  The Complete Atomic Structure of the Large Rib...\n",
      "325     The Genome Sequence of Drosophila melanogaster\n",
      "717  Three-Dimensional Structure of the Tn5 Synapti...\n",
      "181  Crystal Structure of the Ribonucleoprotein Cor...\n",
      "216  The Atom-Cavity Microscope: Single Atoms Bound...\n",
      "892  Regulated Cleavage of a Contact-Mediated Axon ...\n",
      "217  An Oral Vaccine against NMDAR1 with Efficacy i...\n",
      "144  Signaling and Circuitry of Multiple MAPK Pathw...\n",
      "                                                 titles\n",
      "436   Advances in the Physics of High-Temperature Su...\n",
      "988          NEAR at Eros: Imaging and Spectral Results\n",
      "216   The Atom-Cavity Microscope: Single Atoms Bound...\n",
      "15    The Formation and Early Evolution of the Milky...\n",
      "1301  Subduction and Slab Detachment in the Mediterr...\n",
      "437   Quantum Criticality: Competing Ground States i...\n",
      "18    The Galactic Center: An Interacting System of ...\n",
      "634                      Earth's Core and the Geodynamo\n",
      "1222               Sediments at the Top of Earth's Core\n",
      "266   Internal Structure and Early Thermal Evolution...\n"
     ]
    }
   ],
   "source": [
    "for index_list in index_list_for_clusters:\n",
    "    print data3.iloc[index_list]"
   ]
  },
  {
   "cell_type": "code",
   "execution_count": 34,
   "metadata": {},
   "outputs": [
    {
     "name": "stdout",
     "output_type": "stream",
     "text": [
      "      vocabulary\n",
      "167     national\n",
      "19      research\n",
      "2156  institutes\n",
      "1553     funding\n",
      "1532    director\n",
      "3592    agencies\n",
      "3650       funds\n",
      "2808      funded\n",
      "2429     council\n",
      "4511     leaders\n",
      "      vocabulary\n",
      "4            end\n",
      "9            org\n",
      "11    sciencemag\n",
      "2251        noxa\n",
      "3404        mlin\n",
      "5261        rory\n",
      "2454       kif17\n",
      "5073      ifnar1\n",
      "3349     calcyon\n",
      "4129       piflp\n",
      "           vocabulary\n",
      "5322             lcts\n",
      "5279         aptamers\n",
      "5411             neas\n",
      "4995             dnag\n",
      "5454             trxr\n",
      "4975  proteorhodopsin\n",
      "5312             doxy\n",
      "5261             rory\n",
      "3399              ag7\n",
      "4535            nompc\n",
      "           vocabulary\n",
      "4                 end\n",
      "9                 org\n",
      "11         sciencemag\n",
      "12                vol\n",
      "3399              ag7\n",
      "5411             neas\n",
      "4995             dnag\n",
      "4535            nompc\n",
      "5322             lcts\n",
      "4975  proteorhodopsin\n"
     ]
    }
   ],
   "source": [
    "ten_nn = NearestNeighbors(n_neighbors=10)\n",
    "ten_nn.fit(data4)\n",
    "distances, indices = ten_nn.kneighbors(cluster_centers)\n",
    "for index_list in indices:\n",
    "    print data2.iloc[index_list]"
   ]
  }
 ],
 "metadata": {
  "kernelspec": {
   "display_name": "Python [conda env:py27]",
   "language": "python",
   "name": "conda-env-py27-py"
  },
  "language_info": {
   "codemirror_mode": {
    "name": "ipython",
    "version": 2
   },
   "file_extension": ".py",
   "mimetype": "text/x-python",
   "name": "python",
   "nbconvert_exporter": "python",
   "pygments_lexer": "ipython2",
   "version": "2.7.15"
  }
 },
 "nbformat": 4,
 "nbformat_minor": 2
}
