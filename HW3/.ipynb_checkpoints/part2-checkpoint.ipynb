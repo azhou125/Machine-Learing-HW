{
 "cells": [
  {
   "cell_type": "code",
   "execution_count": 1,
   "metadata": {},
   "outputs": [],
   "source": [
    "import numpy as np\n",
    "import pandas as pd\n",
    "from sklearn.cluster import KMeans\n",
    "import matplotlib.pyplot as plt\n",
    "from sklearn import metrics\n",
    "from scipy.spatial.distance import cdist"
   ]
  },
  {
   "cell_type": "markdown",
   "metadata": {},
   "source": [
    "## (a)"
   ]
  },
  {
   "cell_type": "code",
   "execution_count": 2,
   "metadata": {},
   "outputs": [],
   "source": [
    "data1 = np.load(\"science2k-doc-word.npy\")"
   ]
  },
  {
   "cell_type": "code",
   "execution_count": 3,
   "metadata": {},
   "outputs": [],
   "source": [
    "data2 = pd.read_csv(\"science2k-vocab.txt\", names = [\"vocabulary\"])"
   ]
  },
  {
   "cell_type": "code",
   "execution_count": 4,
   "metadata": {},
   "outputs": [
    {
     "data": {
      "text/html": [
       "<div>\n",
       "<style scoped>\n",
       "    .dataframe tbody tr th:only-of-type {\n",
       "        vertical-align: middle;\n",
       "    }\n",
       "\n",
       "    .dataframe tbody tr th {\n",
       "        vertical-align: top;\n",
       "    }\n",
       "\n",
       "    .dataframe thead th {\n",
       "        text-align: right;\n",
       "    }\n",
       "</style>\n",
       "<table border=\"1\" class=\"dataframe\">\n",
       "  <thead>\n",
       "    <tr style=\"text-align: right;\">\n",
       "      <th></th>\n",
       "      <th>vocabulary</th>\n",
       "    </tr>\n",
       "  </thead>\n",
       "  <tbody>\n",
       "    <tr>\n",
       "      <th>0</th>\n",
       "      <td>fig</td>\n",
       "    </tr>\n",
       "    <tr>\n",
       "      <th>1</th>\n",
       "      <td>cells</td>\n",
       "    </tr>\n",
       "    <tr>\n",
       "      <th>2</th>\n",
       "      <td>science</td>\n",
       "    </tr>\n",
       "    <tr>\n",
       "      <th>3</th>\n",
       "      <td>two</td>\n",
       "    </tr>\n",
       "    <tr>\n",
       "      <th>4</th>\n",
       "      <td>end</td>\n",
       "    </tr>\n",
       "  </tbody>\n",
       "</table>\n",
       "</div>"
      ],
      "text/plain": [
       "  vocabulary\n",
       "0        fig\n",
       "1      cells\n",
       "2    science\n",
       "3        two\n",
       "4        end"
      ]
     },
     "execution_count": 4,
     "metadata": {},
     "output_type": "execute_result"
    }
   ],
   "source": [
    "data2.head()"
   ]
  },
  {
   "cell_type": "code",
   "execution_count": 5,
   "metadata": {},
   "outputs": [],
   "source": [
    "data3 = pd.read_csv(\"science2k-titles.txt\", names = [\"titles\"])"
   ]
  },
  {
   "cell_type": "code",
   "execution_count": 37,
   "metadata": {},
   "outputs": [
    {
     "data": {
      "text/html": [
       "<div>\n",
       "<style scoped>\n",
       "    .dataframe tbody tr th:only-of-type {\n",
       "        vertical-align: middle;\n",
       "    }\n",
       "\n",
       "    .dataframe tbody tr th {\n",
       "        vertical-align: top;\n",
       "    }\n",
       "\n",
       "    .dataframe thead th {\n",
       "        text-align: right;\n",
       "    }\n",
       "</style>\n",
       "<table border=\"1\" class=\"dataframe\">\n",
       "  <thead>\n",
       "    <tr style=\"text-align: right;\">\n",
       "      <th></th>\n",
       "      <th>titles</th>\n",
       "    </tr>\n",
       "  </thead>\n",
       "  <tbody>\n",
       "    <tr>\n",
       "      <th>0</th>\n",
       "      <td>Archaeology in the Holy Land</td>\n",
       "    </tr>\n",
       "    <tr>\n",
       "      <th>1</th>\n",
       "      <td>Baedeker's Guide, or Just Plain 'Trouble'?</td>\n",
       "    </tr>\n",
       "    <tr>\n",
       "      <th>2</th>\n",
       "      <td>Duchamp's L.H.O.O.Q.-From 1919 or 1930?</td>\n",
       "    </tr>\n",
       "    <tr>\n",
       "      <th>3</th>\n",
       "      <td>Resistance to Bt Toxins</td>\n",
       "    </tr>\n",
       "    <tr>\n",
       "      <th>4</th>\n",
       "      <td>Corrections and Clarifications: Commercializat...</td>\n",
       "    </tr>\n",
       "  </tbody>\n",
       "</table>\n",
       "</div>"
      ],
      "text/plain": [
       "                                              titles\n",
       "0                       Archaeology in the Holy Land\n",
       "1         Baedeker's Guide, or Just Plain 'Trouble'?\n",
       "2            Duchamp's L.H.O.O.Q.-From 1919 or 1930?\n",
       "3                            Resistance to Bt Toxins\n",
       "4  Corrections and Clarifications: Commercializat..."
      ]
     },
     "execution_count": 37,
     "metadata": {},
     "output_type": "execute_result"
    }
   ],
   "source": [
    "data3.head()"
   ]
  },
  {
   "cell_type": "code",
   "execution_count": 38,
   "metadata": {
    "scrolled": true
   },
   "outputs": [
    {
     "ename": "KeyboardInterrupt",
     "evalue": "",
     "output_type": "error",
     "traceback": [
      "\u001b[1;31m---------------------------------------------------------------------------\u001b[0m",
      "\u001b[1;31mKeyboardInterrupt\u001b[0m                         Traceback (most recent call last)",
      "\u001b[1;32m<ipython-input-38-64ab4eb294e0>\u001b[0m in \u001b[0;36m<module>\u001b[1;34m()\u001b[0m\n\u001b[0;32m      3\u001b[0m \u001b[1;32mfor\u001b[0m \u001b[0mk\u001b[0m \u001b[1;32min\u001b[0m \u001b[0mK\u001b[0m\u001b[1;33m:\u001b[0m\u001b[1;33m\u001b[0m\u001b[0m\n\u001b[0;32m      4\u001b[0m     \u001b[0mkmeanModel\u001b[0m \u001b[1;33m=\u001b[0m \u001b[0mKMeans\u001b[0m\u001b[1;33m(\u001b[0m\u001b[0mn_clusters\u001b[0m\u001b[1;33m=\u001b[0m\u001b[0mk\u001b[0m\u001b[1;33m)\u001b[0m\u001b[1;33m.\u001b[0m\u001b[0mfit\u001b[0m\u001b[1;33m(\u001b[0m\u001b[0mdata4\u001b[0m\u001b[1;33m)\u001b[0m\u001b[1;33m\u001b[0m\u001b[0m\n\u001b[1;32m----> 5\u001b[1;33m     \u001b[0mkmeanModel\u001b[0m\u001b[1;33m.\u001b[0m\u001b[0mfit\u001b[0m\u001b[1;33m(\u001b[0m\u001b[0mdata4\u001b[0m\u001b[1;33m)\u001b[0m\u001b[1;33m\u001b[0m\u001b[0m\n\u001b[0m\u001b[0;32m      6\u001b[0m     \u001b[0mdist\u001b[0m\u001b[1;33m.\u001b[0m\u001b[0mappend\u001b[0m\u001b[1;33m(\u001b[0m\u001b[0msum\u001b[0m\u001b[1;33m(\u001b[0m\u001b[0mnp\u001b[0m\u001b[1;33m.\u001b[0m\u001b[0mmin\u001b[0m\u001b[1;33m(\u001b[0m\u001b[0mcdist\u001b[0m\u001b[1;33m(\u001b[0m\u001b[0mdata4\u001b[0m\u001b[1;33m,\u001b[0m \u001b[0mkmeanModel\u001b[0m\u001b[1;33m.\u001b[0m\u001b[0mcluster_centers_\u001b[0m\u001b[1;33m,\u001b[0m \u001b[1;34m'euclidean'\u001b[0m\u001b[1;33m)\u001b[0m\u001b[1;33m,\u001b[0m \u001b[0maxis\u001b[0m\u001b[1;33m=\u001b[0m\u001b[1;36m1\u001b[0m\u001b[1;33m)\u001b[0m\u001b[1;33m)\u001b[0m \u001b[1;33m/\u001b[0m \u001b[0mdata4\u001b[0m\u001b[1;33m.\u001b[0m\u001b[0mshape\u001b[0m\u001b[1;33m[\u001b[0m\u001b[1;36m0\u001b[0m\u001b[1;33m]\u001b[0m\u001b[1;33m)\u001b[0m\u001b[1;33m\u001b[0m\u001b[0m\n",
      "\u001b[1;32mC:\\Users\\AngZhou\\Anaconda3\\envs\\py27\\lib\\site-packages\\sklearn\\cluster\\k_means_.pyc\u001b[0m in \u001b[0;36mfit\u001b[1;34m(self, X, y)\u001b[0m\n\u001b[0;32m    894\u001b[0m                 \u001b[0mtol\u001b[0m\u001b[1;33m=\u001b[0m\u001b[0mself\u001b[0m\u001b[1;33m.\u001b[0m\u001b[0mtol\u001b[0m\u001b[1;33m,\u001b[0m \u001b[0mrandom_state\u001b[0m\u001b[1;33m=\u001b[0m\u001b[0mrandom_state\u001b[0m\u001b[1;33m,\u001b[0m \u001b[0mcopy_x\u001b[0m\u001b[1;33m=\u001b[0m\u001b[0mself\u001b[0m\u001b[1;33m.\u001b[0m\u001b[0mcopy_x\u001b[0m\u001b[1;33m,\u001b[0m\u001b[1;33m\u001b[0m\u001b[0m\n\u001b[0;32m    895\u001b[0m                 \u001b[0mn_jobs\u001b[0m\u001b[1;33m=\u001b[0m\u001b[0mself\u001b[0m\u001b[1;33m.\u001b[0m\u001b[0mn_jobs\u001b[0m\u001b[1;33m,\u001b[0m \u001b[0malgorithm\u001b[0m\u001b[1;33m=\u001b[0m\u001b[0mself\u001b[0m\u001b[1;33m.\u001b[0m\u001b[0malgorithm\u001b[0m\u001b[1;33m,\u001b[0m\u001b[1;33m\u001b[0m\u001b[0m\n\u001b[1;32m--> 896\u001b[1;33m                 return_n_iter=True)\n\u001b[0m\u001b[0;32m    897\u001b[0m         \u001b[1;32mreturn\u001b[0m \u001b[0mself\u001b[0m\u001b[1;33m\u001b[0m\u001b[0m\n\u001b[0;32m    898\u001b[0m \u001b[1;33m\u001b[0m\u001b[0m\n",
      "\u001b[1;32mC:\\Users\\AngZhou\\Anaconda3\\envs\\py27\\lib\\site-packages\\sklearn\\cluster\\k_means_.pyc\u001b[0m in \u001b[0;36mk_means\u001b[1;34m(X, n_clusters, init, precompute_distances, n_init, max_iter, verbose, tol, random_state, copy_x, n_jobs, algorithm, return_n_iter)\u001b[0m\n\u001b[0;32m    344\u001b[0m                 \u001b[0mX\u001b[0m\u001b[1;33m,\u001b[0m \u001b[0mn_clusters\u001b[0m\u001b[1;33m,\u001b[0m \u001b[0mmax_iter\u001b[0m\u001b[1;33m=\u001b[0m\u001b[0mmax_iter\u001b[0m\u001b[1;33m,\u001b[0m \u001b[0minit\u001b[0m\u001b[1;33m=\u001b[0m\u001b[0minit\u001b[0m\u001b[1;33m,\u001b[0m \u001b[0mverbose\u001b[0m\u001b[1;33m=\u001b[0m\u001b[0mverbose\u001b[0m\u001b[1;33m,\u001b[0m\u001b[1;33m\u001b[0m\u001b[0m\n\u001b[0;32m    345\u001b[0m                 \u001b[0mprecompute_distances\u001b[0m\u001b[1;33m=\u001b[0m\u001b[0mprecompute_distances\u001b[0m\u001b[1;33m,\u001b[0m \u001b[0mtol\u001b[0m\u001b[1;33m=\u001b[0m\u001b[0mtol\u001b[0m\u001b[1;33m,\u001b[0m\u001b[1;33m\u001b[0m\u001b[0m\n\u001b[1;32m--> 346\u001b[1;33m                 x_squared_norms=x_squared_norms, random_state=random_state)\n\u001b[0m\u001b[0;32m    347\u001b[0m             \u001b[1;31m# determine if these results are the best so far\u001b[0m\u001b[1;33m\u001b[0m\u001b[1;33m\u001b[0m\u001b[0m\n\u001b[0;32m    348\u001b[0m             \u001b[1;32mif\u001b[0m \u001b[0mbest_inertia\u001b[0m \u001b[1;32mis\u001b[0m \u001b[0mNone\u001b[0m \u001b[1;32mor\u001b[0m \u001b[0minertia\u001b[0m \u001b[1;33m<\u001b[0m \u001b[0mbest_inertia\u001b[0m\u001b[1;33m:\u001b[0m\u001b[1;33m\u001b[0m\u001b[0m\n",
      "\u001b[1;32mC:\\Users\\AngZhou\\Anaconda3\\envs\\py27\\lib\\site-packages\\sklearn\\cluster\\k_means_.pyc\u001b[0m in \u001b[0;36m_kmeans_single_elkan\u001b[1;34m(X, n_clusters, max_iter, init, verbose, x_squared_norms, random_state, tol, precompute_distances)\u001b[0m\n\u001b[0;32m    398\u001b[0m         \u001b[1;32mprint\u001b[0m\u001b[1;33m(\u001b[0m\u001b[1;34m'Initialization complete'\u001b[0m\u001b[1;33m)\u001b[0m\u001b[1;33m\u001b[0m\u001b[0m\n\u001b[0;32m    399\u001b[0m     centers, labels, n_iter = k_means_elkan(X, n_clusters, centers, tol=tol,\n\u001b[1;32m--> 400\u001b[1;33m                                             max_iter=max_iter, verbose=verbose)\n\u001b[0m\u001b[0;32m    401\u001b[0m     \u001b[0minertia\u001b[0m \u001b[1;33m=\u001b[0m \u001b[0mnp\u001b[0m\u001b[1;33m.\u001b[0m\u001b[0msum\u001b[0m\u001b[1;33m(\u001b[0m\u001b[1;33m(\u001b[0m\u001b[0mX\u001b[0m \u001b[1;33m-\u001b[0m \u001b[0mcenters\u001b[0m\u001b[1;33m[\u001b[0m\u001b[0mlabels\u001b[0m\u001b[1;33m]\u001b[0m\u001b[1;33m)\u001b[0m \u001b[1;33m**\u001b[0m \u001b[1;36m2\u001b[0m\u001b[1;33m,\u001b[0m \u001b[0mdtype\u001b[0m\u001b[1;33m=\u001b[0m\u001b[0mnp\u001b[0m\u001b[1;33m.\u001b[0m\u001b[0mfloat64\u001b[0m\u001b[1;33m)\u001b[0m\u001b[1;33m\u001b[0m\u001b[0m\n\u001b[0;32m    402\u001b[0m     \u001b[1;32mreturn\u001b[0m \u001b[0mlabels\u001b[0m\u001b[1;33m,\u001b[0m \u001b[0minertia\u001b[0m\u001b[1;33m,\u001b[0m \u001b[0mcenters\u001b[0m\u001b[1;33m,\u001b[0m \u001b[0mn_iter\u001b[0m\u001b[1;33m\u001b[0m\u001b[0m\n",
      "\u001b[1;32msklearn\\cluster\\_k_means_elkan.pyx\u001b[0m in \u001b[0;36msklearn.cluster._k_means_elkan.k_means_elkan\u001b[1;34m()\u001b[0m\n",
      "\u001b[1;32mC:\\Users\\AngZhou\\Anaconda3\\envs\\py27\\lib\\site-packages\\numpy\\core\\fromnumeric.pyc\u001b[0m in \u001b[0;36msum\u001b[1;34m(a, axis, dtype, out, keepdims)\u001b[0m\n\u001b[0;32m   1741\u001b[0m \u001b[1;33m\u001b[0m\u001b[0m\n\u001b[0;32m   1742\u001b[0m \u001b[1;33m\u001b[0m\u001b[0m\n\u001b[1;32m-> 1743\u001b[1;33m \u001b[1;32mdef\u001b[0m \u001b[0msum\u001b[0m\u001b[1;33m(\u001b[0m\u001b[0ma\u001b[0m\u001b[1;33m,\u001b[0m \u001b[0maxis\u001b[0m\u001b[1;33m=\u001b[0m\u001b[0mNone\u001b[0m\u001b[1;33m,\u001b[0m \u001b[0mdtype\u001b[0m\u001b[1;33m=\u001b[0m\u001b[0mNone\u001b[0m\u001b[1;33m,\u001b[0m \u001b[0mout\u001b[0m\u001b[1;33m=\u001b[0m\u001b[0mNone\u001b[0m\u001b[1;33m,\u001b[0m \u001b[0mkeepdims\u001b[0m\u001b[1;33m=\u001b[0m\u001b[0mnp\u001b[0m\u001b[1;33m.\u001b[0m\u001b[0m_NoValue\u001b[0m\u001b[1;33m)\u001b[0m\u001b[1;33m:\u001b[0m\u001b[1;33m\u001b[0m\u001b[0m\n\u001b[0m\u001b[0;32m   1744\u001b[0m     \"\"\"\n\u001b[0;32m   1745\u001b[0m     \u001b[0mSum\u001b[0m \u001b[0mof\u001b[0m \u001b[0marray\u001b[0m \u001b[0melements\u001b[0m \u001b[0mover\u001b[0m \u001b[0ma\u001b[0m \u001b[0mgiven\u001b[0m \u001b[0maxis\u001b[0m\u001b[1;33m.\u001b[0m\u001b[1;33m\u001b[0m\u001b[0m\n",
      "\u001b[1;31mKeyboardInterrupt\u001b[0m: "
     ]
    }
   ],
   "source": [
    "dist= []\n",
    "K = range(1,21)\n",
    "for k in K:\n",
    "    kmeanModel = KMeans(n_clusters=k).fit(data4)\n",
    "    kmeanModel.fit(data4)\n",
    "    dist.append(sum(np.min(cdist(data4, kmeanModel.cluster_centers_, 'euclidean'), axis=1)) / data4.shape[0])"
   ]
  },
  {
   "cell_type": "code",
   "execution_count": 10,
   "metadata": {
    "scrolled": true
   },
   "outputs": [
    {
     "name": "stdout",
     "output_type": "stream",
     "text": [
      "[34736463.445210621, 33778592.489683576, 32999095.902744193, 32734690.874183238, 32619548.877941258, 32322380.623356082, 32190524.803179976, 32040986.962712914, 31983494.904565133, 31816859.095691741, 31779446.130665809, 31794754.923221428, 31706892.986494564, 31596066.800767563, 31558779.214393843, 31373011.208541796, 31437084.413662709, 31327789.60139408, 31242358.470663249, 31203102.508429356]\n"
     ]
    },
    {
     "data": {
      "text/plain": [
       "[<matplotlib.lines.Line2D at 0xd09e518>]"
      ]
     },
     "execution_count": 10,
     "metadata": {},
     "output_type": "execute_result"
    },
    {
     "data": {
      "image/png": "[encoded data removed]",
      "text/plain": [
       "<matplotlib.figure.Figure at 0xc54c0b8>"
      ]
     },
     "metadata": {},
     "output_type": "display_data"
    }
   ],
   "source": [
    "# Plot the elbow\n",
    "plt.plot(K, dist, 'bx-')\n",
    "plt.xlabel('k')\n",
    "plt.ylabel('Distortion')\n",
    "plt.title('The Elbow Method showing the optimal k')\n",
    "plt.show()"
   ]
  },
  {
   "cell_type": "code",
   "execution_count": 14,
   "metadata": {},
   "outputs": [],
   "source": [
    "kmeans = KMeans(n_clusters=3, random_state=0).fit(data1)"
   ]
  },
  {
   "cell_type": "code",
   "execution_count": 15,
   "metadata": {},
   "outputs": [],
   "source": [
    "mean = data1.mean(0)"
   ]
  },
  {
   "cell_type": "code",
   "execution_count": 16,
   "metadata": {},
   "outputs": [
    {
     "data": {
      "text/plain": [
       "array([ 6.12158107,  3.39409491,  9.01546653, ..., -0.5040002 ,\n",
       "       -0.58283004, -0.5696959 ])"
      ]
     },
     "execution_count": 16,
     "metadata": {},
     "output_type": "execute_result"
    }
   ],
   "source": [
    "mean"
   ]
  },
  {
   "cell_type": "code",
   "execution_count": 17,
   "metadata": {},
   "outputs": [],
   "source": [
    "cluster_centers = kmeans.cluster_centers_"
   ]
  },
  {
   "cell_type": "code",
   "execution_count": 18,
   "metadata": {},
   "outputs": [
    {
     "data": {
      "text/plain": [
       "32999095.902744193"
      ]
     },
     "execution_count": 18,
     "metadata": {},
     "output_type": "execute_result"
    }
   ],
   "source": [
    "kmeans.inertia_"
   ]
  },
  {
   "cell_type": "code",
   "execution_count": 19,
   "metadata": {},
   "outputs": [],
   "source": [
    "def f(a,N): \n",
    "    return np.argsort(a)[::-1][:N]"
   ]
  },
  {
   "cell_type": "code",
   "execution_count": 20,
   "metadata": {},
   "outputs": [
    {
     "name": "stdout",
     "output_type": "stream",
     "text": [
      "[  0   7  96  17  39   1  99 154  20  16]\n",
      "[  0  64  20  24 403 358 129  59 484 141]\n",
      "[  7   5   1  23   0  22  17  56 161  51]\n"
     ]
    }
   ],
   "source": [
    "index_list_for_clusters = []\n",
    "for cluster_center in cluster_centers:\n",
    "    diffs = abs(np.subtract(cluster_center,mean))\n",
    "    index =  f(diffs,10)\n",
    "    index_list_for_clusters.append(index)\n",
    "    print index"
   ]
  },
  {
   "cell_type": "code",
   "execution_count": 21,
   "metadata": {},
   "outputs": [
    {
     "name": "stdout",
     "output_type": "stream",
     "text": [
      "      vocabulary\n",
      "0            fig\n",
      "7        protein\n",
      "96        values\n",
      "17          gene\n",
      "39   temperature\n",
      "1          cells\n",
      "99         range\n",
      "154        shows\n",
      "20      observed\n",
      "16       surface\n",
      "         vocabulary\n",
      "0               fig\n",
      "64          reports\n",
      "20         observed\n",
      "24            shown\n",
      "403  correspondence\n",
      "358       addressed\n",
      "129    respectively\n",
      "59         function\n",
      "484           email\n",
      "141      consistent\n",
      "     vocabulary\n",
      "7       protein\n",
      "5          cell\n",
      "1         cells\n",
      "23   expression\n",
      "0           fig\n",
      "22     proteins\n",
      "17         gene\n",
      "56     specific\n",
      "161   expressed\n",
      "51      binding\n"
     ]
    }
   ],
   "source": [
    "for index_list in index_list_for_clusters:\n",
    "    print data2.iloc[index_list]"
   ]
  },
  {
   "cell_type": "code",
   "execution_count": 30,
   "metadata": {},
   "outputs": [],
   "source": [
    "from sklearn.neighbors import NearestNeighbors\n",
    "ten_nn = NearestNeighbors(n_neighbors=10)\n",
    "ten_nn.fit(data1)\n",
    "\n",
    "distances, indices = ten_nn.kneighbors([cluster_centers[0]])"
   ]
  },
  {
   "cell_type": "code",
   "execution_count": 29,
   "metadata": {},
   "outputs": [
    {
     "data": {
      "text/plain": [
       "array([[ 519, 1281,  574,   90,  302,  123,  122,  124,  139, 1283],\n",
       "       [ 519,  574,  453,  499,    0,   90,  123,  122,  124,  777],\n",
       "       [ 997,  968,  302,  519,  574,  367,  656, 1214,  541, 1239]], dtype=int64)"
      ]
     },
     "execution_count": 29,
     "metadata": {},
     "output_type": "execute_result"
    }
   ],
   "source": [
    "indices"
   ]
  },
  {
   "cell_type": "code",
   "execution_count": 24,
   "metadata": {},
   "outputs": [
    {
     "name": "stdout",
     "output_type": "stream",
     "text": [
      "[['Algorithmic Gladiators Vie for Digital Glory']\n",
      " ['The Formation of Chondrules at High Gas Pressures in the Solar Nebula']\n",
      " ['Reopening the Darkest Chapter in German Science']\n",
      " ['Heretical Idea Faces Its Sternest Test']\n",
      " ['Thermal, Catalytic, Regiospecific Functionalization of Alkanes']\n",
      " [ \"Corrections and Clarifications: Charon's First Detailed Spectra Hold Many Surprises\"]\n",
      " [ 'Corrections and Clarifications: A Short Fe-Fe Distance in Peroxodiferric Ferritin: Control of Fe Substrate versus Cofactor Decay?']\n",
      " ['Corrections and Clarifications: Unearthing Monuments of the Yarmukians']\n",
      " [ 'Population Dynamical Consequences of Climate Change for a Small Temperate Songbird']\n",
      " ['Nitric Acid Trihydrate (NAT) in Polar Stratospheric Clouds']]\n",
      "[['Algorithmic Gladiators Vie for Digital Glory']\n",
      " ['Reopening the Darkest Chapter in German Science']\n",
      " ['Information Technology Takes a Different Tack']\n",
      " ['National Academy of Sciences Elects New Members']\n",
      " ['Archaeology in the Holy Land']\n",
      " ['Heretical Idea Faces Its Sternest Test']\n",
      " [ \"Corrections and Clarifications: Charon's First Detailed Spectra Hold Many Surprises\"]\n",
      " [ 'Corrections and Clarifications: A Short Fe-Fe Distance in Peroxodiferric Ferritin: Control of Fe Substrate versus Cofactor Decay?']\n",
      " ['Corrections and Clarifications: Unearthing Monuments of the Yarmukians']\n",
      " ['Divining Diet and Disease from DNA']]\n",
      "[[ 'Requirement of NAD and SIR2 for Life-Span Extension by Calorie Restriction in Saccharomyces Cerevisiae']\n",
      " [ 'Suppression of Mutations in Mitochondrial DNA by tRNAs Imported from the Cytoplasm']\n",
      " ['Thermal, Catalytic, Regiospecific Functionalization of Alkanes']\n",
      " ['Algorithmic Gladiators Vie for Digital Glory']\n",
      " ['Reopening the Darkest Chapter in German Science']\n",
      " [ 'Similar Requirements of a Plant Symbiont and a Mammalian Pathogen for Prolonged Intracellular Survival']\n",
      " ['Mothers Setting Boundaries']\n",
      " ['Turning up the Heat on Histoplasma capsulatum']\n",
      " [ 'Distinct Classes of Yeast Promoters Revealed by Differential TAF Recruitment']\n",
      " ['An Arresting Start for MAPK']]\n"
     ]
    }
   ],
   "source": [
    "for index_list in indices:\n",
    "    print data3.iloc[index_list].values"
   ]
  },
  {
   "cell_type": "markdown",
   "metadata": {},
   "source": [
    "## (b)"
   ]
  },
  {
   "cell_type": "code",
   "execution_count": 32,
   "metadata": {},
   "outputs": [],
   "source": [
    "data4 = np.load(\"science2k-word-doc.npy\")"
   ]
  },
  {
   "cell_type": "code",
   "execution_count": 33,
   "metadata": {},
   "outputs": [
    {
     "data": {
      "text/plain": [
       "array([[-6.755691  , -6.755691  , -6.755691  , ...,  4.064107  ,\n",
       "         5.093713  ,  3.707441  ],\n",
       "       [-4.028205  , -4.028205  , -4.028205  , ..., -4.028205  ,\n",
       "        -4.028205  , -4.028205  ],\n",
       "       [-0.03370464, -1.132184  , -0.03370464, ...,  0.2539608 ,\n",
       "         1.57568   ,  0.6594092 ],\n",
       "       ..., \n",
       "       [-0.1301101 , -0.1301101 , -0.1301101 , ..., -0.1301101 ,\n",
       "        -0.1301101 , -0.1301101 ],\n",
       "       [-0.05128021, -0.05128021, -0.05128021, ..., -0.05128021,\n",
       "        -0.05128021, -0.05128021],\n",
       "       [-0.06441435, -0.06441435, -0.06441435, ..., -0.06441435,\n",
       "        -0.06441435, -0.06441435]])"
      ]
     },
     "execution_count": 33,
     "metadata": {},
     "output_type": "execute_result"
    }
   ],
   "source": [
    "data4"
   ]
  },
  {
   "cell_type": "code",
   "execution_count": 34,
   "metadata": {},
   "outputs": [],
   "source": [
    "distortions = []\n",
    "K = range(1,21)\n",
    "for k in K:\n",
    "    kmeanModel = KMeans(n_clusters=k).fit(data4)\n",
    "    kmeanModel.fit(data4)\n",
    "    distortions.append(sum(np.min(cdist(data4, kmeanModel.cluster_centers_, 'euclidean'), axis=1)) / data4.shape[0])"
   ]
  },
  {
   "cell_type": "code",
   "execution_count": 35,
   "metadata": {},
   "outputs": [
    {
     "data": {
      "image/png": "[encoded data removed]",
      "text/plain": [
       "<matplotlib.figure.Figure at 0xc4a0a90>"
      ]
     },
     "metadata": {},
     "output_type": "display_data"
    }
   ],
   "source": [
    "# Plot the elbow\n",
    "plt.plot(K, distortions, 'bx-')\n",
    "plt.xlabel('k')\n",
    "plt.ylabel('Distortion')\n",
    "plt.title('The Elbow Method showing the optimal k')\n",
    "plt.show()"
   ]
  },
  {
   "cell_type": "code",
   "execution_count": 126,
   "metadata": {},
   "outputs": [],
   "source": [
    "kmeans = KMeans(n_clusters=3, random_state=0).fit(data4)"
   ]
  },
  {
   "cell_type": "code",
   "execution_count": 132,
   "metadata": {},
   "outputs": [],
   "source": [
    "mean = data4.mean(0)\n",
    "cluster_centers = kmeans.cluster_centers_"
   ]
  },
  {
   "cell_type": "code",
   "execution_count": 133,
   "metadata": {},
   "outputs": [
    {
     "name": "stdout",
     "output_type": "stream",
     "text": [
      "[ 516  439  167  610  892  740  217  494  165 1063]\n",
      "[439 837 717 461 325 181 216 445 988 144]\n",
      "[ 988  216  436   15 1301   18  634  437 1222  266]\n"
     ]
    }
   ],
   "source": [
    "index_list_for_clusters = []\n",
    "for cluster_center in cluster_centers:\n",
    "    diffs = abs(np.subtract(cluster_center,mean))\n",
    "    index =  f(diffs,10)\n",
    "    index_list_for_clusters.append(index)\n",
    "    print index"
   ]
  },
  {
   "cell_type": "code",
   "execution_count": 134,
   "metadata": {},
   "outputs": [
    {
     "name": "stdout",
     "output_type": "stream",
     "text": [
      "                                                 titles\n",
      "516   Noxa, a BH3-Only Member of the Bcl-2 Family an...\n",
      "439   Positional Syntenic Cloning and Functional Cha...\n",
      "167   Central Role for G Protein-Coupled Phosphoinos...\n",
      "610   Kinesin Superfamily Motor Protein KIF17 and mL...\n",
      "892   Regulated Cleavage of a Contact-Mediated Axon ...\n",
      "740   Role of the Mouse ank Gene in Control of Tissu...\n",
      "217   An Oral Vaccine against NMDAR1 with Efficacy i...\n",
      "494   Requirement of JNK for Stress-Induced Activati...\n",
      "165   Function of PI3Kg in Thymocyte Development, T ...\n",
      "1063  Regulation of STAT3 by Direct Binding to the R...\n",
      "                                                titles\n",
      "439  Positional Syntenic Cloning and Functional Cha...\n",
      "837  The Complete Atomic Structure of the Large Rib...\n",
      "717  Three-Dimensional Structure of the Tn5 Synapti...\n",
      "461  Architecture of RNA Polymerase II and Implicat...\n",
      "325     The Genome Sequence of Drosophila melanogaster\n",
      "181  Crystal Structure of the Ribonucleoprotein Cor...\n",
      "216  The Atom-Cavity Microscope: Single Atoms Bound...\n",
      "445  A Structural Framework for Deciphering the Lin...\n",
      "988         NEAR at Eros: Imaging and Spectral Results\n",
      "144  Signaling and Circuitry of Multiple MAPK Pathw...\n",
      "                                                 titles\n",
      "988          NEAR at Eros: Imaging and Spectral Results\n",
      "216   The Atom-Cavity Microscope: Single Atoms Bound...\n",
      "436   Advances in the Physics of High-Temperature Su...\n",
      "15    The Formation and Early Evolution of the Milky...\n",
      "1301  Subduction and Slab Detachment in the Mediterr...\n",
      "18    The Galactic Center: An Interacting System of ...\n",
      "634                      Earth's Core and the Geodynamo\n",
      "437   Quantum Criticality: Competing Ground States i...\n",
      "1222               Sediments at the Top of Earth's Core\n",
      "266   Internal Structure and Early Thermal Evolution...\n"
     ]
    }
   ],
   "source": [
    "for index_list in index_list_for_clusters:\n",
    "    print data3.iloc[index_list]"
   ]
  },
  {
   "cell_type": "code",
   "execution_count": 138,
   "metadata": {},
   "outputs": [
    {
     "name": "stdout",
     "output_type": "stream",
     "text": [
      "      vocabulary\n",
      "4            end\n",
      "9            org\n",
      "11    sciencemag\n",
      "3404        mlin\n",
      "2251        noxa\n",
      "5261        rory\n",
      "2454       kif17\n",
      "5073      ifnar1\n",
      "3349     calcyon\n",
      "3928        mcry\n",
      "           vocabulary\n",
      "5322             lcts\n",
      "5279         aptamers\n",
      "4995             dnag\n",
      "5411             neas\n",
      "5261             rory\n",
      "5454             trxr\n",
      "5312             doxy\n",
      "4975  proteorhodopsin\n",
      "4535            nompc\n",
      "3399              ag7\n",
      "           vocabulary\n",
      "4                 end\n",
      "9                 org\n",
      "11         sciencemag\n",
      "3399              ag7\n",
      "5411             neas\n",
      "4995             dnag\n",
      "4535            nompc\n",
      "5322             lcts\n",
      "4975  proteorhodopsin\n",
      "5454             trxr\n"
     ]
    }
   ],
   "source": [
    "ten_nn = NearestNeighbors(n_neighbors=10)\n",
    "ten_nn.fit(data4)\n",
    "distances, indices = ten_nn.kneighbors(cluster_centers)\n",
    "for index_list in indices:\n",
    "    print data2.iloc[index_list]"
   ]
  }
 ],
 "metadata": {
  "kernelspec": {
   "display_name": "Python [conda env:py27]",
   "language": "python",
   "name": "conda-env-py27-py"
  },
  "language_info": {
   "codemirror_mode": {
    "name": "ipython",
    "version": 2
   },
   "file_extension": ".py",
   "mimetype": "text/x-python",
   "name": "python",
   "nbconvert_exporter": "python",
   "pygments_lexer": "ipython2",
   "version": "2.7.15"
  }
 },
 "nbformat": 4,
 "nbformat_minor": 2
}
