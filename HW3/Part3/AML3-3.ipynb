{
 "cells": [
  {
   "cell_type": "code",
   "execution_count": 1,
   "metadata": {},
   "outputs": [
    {
     "data": {
      "text/latex": [
       "3. EM algorithm and implementation\n",
       "(a) The parameters of Gaussian Mixture Model (GMM) can be estimated via the EM algorithm. \n",
       "Show that the alternating algorithm for k-means (in Lec. 11) is a special case of the EM algorithm \n",
       "and show the corresponding objective functions for E-step and M-step.\n",
       "\n",
       "e-step:\n",
       "$$ r_ic = \\left\\{\n",
       "\\begin{aligned}\n",
       "0  \\ if \\ min(\\mu-i) != \\mu_c - i \\\\\n",
       "1  \\ if \\ min(\\mu-i) = \\mu_c - i \\\\\n",
       "\\end{aligned}\n",
       "\\right.\n",
       "$$\n",
       "\n",
       "m-step:\n",
       "$$\n",
       "\\mu_c = \\frac{\\sum r_ic * i}{\\sum r_ic}\n",
       "$$ "
      ],
      "text/plain": [
       "<IPython.core.display.Latex object>"
      ]
     },
     "metadata": {},
     "output_type": "display_data"
    }
   ],
   "source": [
    "%%latex\n",
    "3. EM algorithm and implementation\n",
    "(a) The parameters of Gaussian Mixture Model (GMM) can be estimated via the EM algorithm. \n",
    "Show that the alternating algorithm for k-means (in Lec. 11) is a special case of the EM algorithm \n",
    "and show the corresponding objective functions for E-step and M-step.\n",
    "\n",
    "e-step:\n",
    "$$ r_ic = \\left\\{\n",
    "\\begin{aligned}\n",
    "0  \\ if \\ min(\\mu-i) != \\mu_c - i \\\\\n",
    "1  \\ if \\ min(\\mu-i) = \\mu_c - i \\\\\n",
    "\\end{aligned}\n",
    "\\right.\n",
    "$$\n",
    "\n",
    "m-step:\n",
    "$$\n",
    "\\mu_c = \\frac{\\sum r_ic * i}{\\sum r_ic}\n",
    "$$ "
   ]
  },
  {
   "cell_type": "code",
   "execution_count": 2,
   "metadata": {},
   "outputs": [
    {
     "data": {
      "text/latex": [
       "\n",
       "(b) Download the Old Faithful Geyser Dataset. The data file contains 272 observations of (eruption time, waiting time). \n",
       "Treat each entry as a 2 dimensional feature vector. Parse and plot all data points on 2-D plane."
      ],
      "text/plain": [
       "<IPython.core.display.Latex object>"
      ]
     },
     "metadata": {},
     "output_type": "display_data"
    }
   ],
   "source": [
    "%%latex\n",
    "\n",
    "(b) Download the Old Faithful Geyser Dataset. The data file contains 272 observations of (eruption time, waiting time). \n",
    "Treat each entry as a 2 dimensional feature vector. Parse and plot all data points on 2-D plane."
   ]
  },
  {
   "cell_type": "code",
   "execution_count": 58,
   "metadata": {},
   "outputs": [
    {
     "data": {
      "text/plain": [
       "(272L, 2L)"
      ]
     },
     "execution_count": 58,
     "metadata": {},
     "output_type": "execute_result"
    }
   ],
   "source": [
    "import numpy as np\n",
    "import pandas as pd\n",
    "import matplotlib.pyplot as plt\n",
    "from scipy.stats import multivariate_normal\n",
    "\n",
    "df = pd.read_csv('faithful.txt', header = 0, delimiter = '\\s+')\n",
    "data = df.values\n",
    "data.shape"
   ]
  },
  {
   "cell_type": "code",
   "execution_count": 59,
   "metadata": {},
   "outputs": [
    {
     "data": {
      "text/plain": [
       "<matplotlib.collections.PathCollection at 0xc77c0f0>"
      ]
     },
     "execution_count": 59,
     "metadata": {},
     "output_type": "execute_result"
    },
    {
     "data": {
      "image/png": "[encoded data removed]",
      "text/plain": [
       "<matplotlib.figure.Figure at 0xb32a7f0>"
      ]
     },
     "metadata": {},
     "output_type": "display_data"
    }
   ],
   "source": [
    "feature1 = data[:,0]\n",
    "feature2 = data[:,1]\n",
    "\n",
    "plt.scatter(feature1, feature2)"
   ]
  },
  {
   "cell_type": "code",
   "execution_count": 8,
   "metadata": {},
   "outputs": [
    {
     "data": {
      "text/latex": [
       "\n",
       "(c) Implement a bimodal GMM model to fit all data points using EM algorithm.\n",
       "Explain the reasoning behind your termination criteria. For this problem, we assume the covariance matrix is spherical \n",
       "and you can randomly initialize Gaussian parameters. \n",
       "\n",
       "For evaluation purposes, please submit the following figures: \n",
       "• Plot the trajectories of two mean vectors in 2 dimensions (i.e.,coordinates vs. iteration). \n",
       "• Run your program for 50 times with different initial parameter guesses.  \n",
       "Show the distribution of the total number of iterations needed for algorithm to converge."
      ],
      "text/plain": [
       "<IPython.core.display.Latex object>"
      ]
     },
     "metadata": {},
     "output_type": "display_data"
    }
   ],
   "source": [
    "%%latex\n",
    "\n",
    "(c) Implement a bimodal GMM model to fit all data points using EM algorithm.\n",
    "Explain the reasoning behind your termination criteria. For this problem, we assume the covariance matrix is spherical \n",
    "and you can randomly initialize Gaussian parameters. \n",
    "\n",
    "For evaluation purposes, please submit the following figures: \n",
    "• Plot the trajectories of two mean vectors in 2 dimensions (i.e.,coordinates vs. iteration). \n",
    "• Run your program for 50 times with different initial parameter guesses.  \n",
    "Show the distribution of the total number of iterations needed for algorithm to converge."
   ]
  },
  {
   "cell_type": "code",
   "execution_count": 61,
   "metadata": {},
   "outputs": [
    {
     "data": {
      "text/html": [
       "<div>\n",
       "<style scoped>\n",
       "    .dataframe tbody tr th:only-of-type {\n",
       "        vertical-align: middle;\n",
       "    }\n",
       "\n",
       "    .dataframe tbody tr th {\n",
       "        vertical-align: top;\n",
       "    }\n",
       "\n",
       "    .dataframe thead th {\n",
       "        text-align: right;\n",
       "    }\n",
       "</style>\n",
       "<table border=\"1\" class=\"dataframe\">\n",
       "  <thead>\n",
       "    <tr style=\"text-align: right;\">\n",
       "      <th></th>\n",
       "      <th>eruptions</th>\n",
       "      <th>waiting</th>\n",
       "    </tr>\n",
       "  </thead>\n",
       "  <tbody>\n",
       "    <tr>\n",
       "      <th>0</th>\n",
       "      <td>0.571429</td>\n",
       "      <td>0.679245</td>\n",
       "    </tr>\n",
       "    <tr>\n",
       "      <th>1</th>\n",
       "      <td>0.057143</td>\n",
       "      <td>0.207547</td>\n",
       "    </tr>\n",
       "    <tr>\n",
       "      <th>2</th>\n",
       "      <td>0.495143</td>\n",
       "      <td>0.584906</td>\n",
       "    </tr>\n",
       "    <tr>\n",
       "      <th>3</th>\n",
       "      <td>0.195143</td>\n",
       "      <td>0.358491</td>\n",
       "    </tr>\n",
       "    <tr>\n",
       "      <th>4</th>\n",
       "      <td>0.838000</td>\n",
       "      <td>0.792453</td>\n",
       "    </tr>\n",
       "  </tbody>\n",
       "</table>\n",
       "</div>"
      ],
      "text/plain": [
       "   eruptions   waiting\n",
       "0   0.571429  0.679245\n",
       "1   0.057143  0.207547\n",
       "2   0.495143  0.584906\n",
       "3   0.195143  0.358491\n",
       "4   0.838000  0.792453"
      ]
     },
     "execution_count": 61,
     "metadata": {},
     "output_type": "execute_result"
    }
   ],
   "source": [
    "# at first we scale the data to 0~1\n",
    "from sklearn.preprocessing import MinMaxScaler\n",
    "data = df\n",
    "scaler = MinMaxScaler()\n",
    "scaler.fit(data)\n",
    "data_scaled = pd.DataFrame(scaler.transform(data), columns=data.columns)\n",
    "data_scaled.head()"
   ]
  },
  {
   "cell_type": "code",
   "execution_count": 64,
   "metadata": {},
   "outputs": [
    {
     "name": "stdout",
     "output_type": "stream",
     "text": [
      "end\n"
     ]
    }
   ],
   "source": [
    "import math\n",
    "import copy\n",
    "import numpy as np\n",
    "import matplotlib.pyplot as plt\n",
    " \n",
    "k = 2\n",
    "class GMM_EM:\n",
    "    \n",
    "    def __init__(self, k, data, threshold=10e-4):\n",
    "        self.k = k\n",
    "        self.data = data\n",
    "        self.num_data, self.num_features = self.data.shape\n",
    "        self.threshold = threshold\n",
    "    \n",
    "    def __get_init_params(self):\n",
    "        #set mu[mu1, mu2]\n",
    "        mu = np.random.rand(self.k, self.num_features)\n",
    "        #set cov-matrix\n",
    "        cov_rand = np.random.rand(self.k)\n",
    "        cov = []\n",
    "        for rand in cov_rand:\n",
    "            cov.append(np.diag([rand, rand]))\n",
    "        cov = np.array(cov)\n",
    "        #set pi, as k = 2, just simplify the process\n",
    "        pi = []\n",
    "        remain = 1\n",
    "        pi_rand = np.random.rand(self.k-1)\n",
    "        for rand in pi_rand:\n",
    "            pi.append(rand)\n",
    "            remain -= rand * remain\n",
    "        pi.append(remain)\n",
    "        pi = np.array(pi)\n",
    "        return mu, cov, pi\n",
    "\n",
    "\n",
    "    # EM, step 1, calculate the E[zij]\n",
    "    def e_step(self, mu, cov, pi):\n",
    "        # Calculate probabilities for all samples to each model\n",
    "        prob = np.zeros((self.num_data, self.k))\n",
    "        for k in range(self.k):\n",
    "            prob[:, k] = multivariate_normal.pdf(self.data, mean=mu[k], cov=cov[k])\n",
    "\n",
    "        # Calculate responsibility for each model to every sample\n",
    "        responsibility = np.zeros((self.num_data, self.k))\n",
    "        for k in range(self.k):\n",
    "            responsibility[:, k] = pi[k] * prob[:, k]\n",
    "        for i in range(self.num_data):\n",
    "            Sum = np.sum(responsibility[i, :])\n",
    "            if Sum != 0:\n",
    "                responsibility[i, :] /= Sum\n",
    "        return responsibility\n",
    "\n",
    "    # EM, step 2, maximum E[zij]\n",
    "    def m_step(self, responsibility):\n",
    "        mu = np.zeros((self.k, self.num_features))\n",
    "        cov = []\n",
    "        pi = np.zeros(self.k)\n",
    "        \n",
    "        #calculate the new_mu and new_cov\n",
    "        for k in range(self.k):\n",
    "            # sum of responses of all samples for kth model\n",
    "            sum_resp = np.sum(responsibility[:, k])\n",
    "            for f in range(self.num_features):\n",
    "                mu[k, f] = np.sum(np.multiply(responsibility[:, k], self.data[:, f])) / sum_resp\n",
    "\n",
    "                # cov (spherical)\n",
    "                cov_k = 0\n",
    "                for i in range(self.num_data):\n",
    "                    cov_k += responsibility[i, k] * np.sum(np.square(self.data[i] - mu[k]))\n",
    "                cov_k /= sum_resp\n",
    "                cov.append(np.diag([cov_k, cov_k]))\n",
    "\n",
    "                # pi\n",
    "                pi[k] = sum_resp / self.num_data\n",
    "        return mu, cov, pi\n",
    "    \n",
    "    def __append_mu(self, mus, mu):\n",
    "        for i in range(self.k):\n",
    "            for j in range(self.num_features):\n",
    "                mus[i][j].append(mu[i][j])\n",
    "                \n",
    "    # this will iterate iter_num，or stopiteration when approaching - Epsilon\n",
    "    def run(self, init_mu=None, init_cov=None):\n",
    "        mu, cov, pi = self.__get_init_params()\n",
    "        \n",
    "        if init_mu is not None:\n",
    "            mu = init_mu\n",
    "        if init_cov is not None:\n",
    "            cov = init_cov\n",
    "        \n",
    "        mus = [ [ [] for _ in range(self.num_features) ] for __ in range(self.k) ]\n",
    "        self.__append_mu(mus, mu)\n",
    "        iterations = 0\n",
    "        log_likelyhoods = []\n",
    "        while iterations < 100:\n",
    "            resp = self.e_step(mu, cov, pi)\n",
    "            mu, cov, pi = self.m_step(resp)\n",
    "            self.__append_mu(mus, mu)\n",
    "            iterations += 1\n",
    "            \n",
    "            log_likelyhood = np.zeros(self.num_data)\n",
    "            for k in range(self.k):\n",
    "                log_likelyhood += multivariate_normal.pdf(self.data, mean=mu[k], cov=cov[k]) * pi[k]\n",
    "            \n",
    "            log_likelyhood = np.sum(np.log10(log_likelyhood))\n",
    "            log_likelyhoods.append(log_likelyhood)\n",
    "            \n",
    "            \n",
    "            if iterations>5 and abs(log_likelyhoods[-1]-log_likelyhoods[-2]) / abs(log_likelyhoods[-1]) < self.threshold:\n",
    "                break\n",
    "        return mus, iterations\n",
    "        \n",
    "print 'end'"
   ]
  },
  {
   "cell_type": "code",
   "execution_count": 75,
   "metadata": {},
   "outputs": [
    {
     "name": "stdout",
     "output_type": "stream",
     "text": [
      "('Done with', 11, 'iterations.')\n"
     ]
    },
    {
     "data": {
      "text/plain": [
       "<matplotlib.legend.Legend at 0xe474ba8>"
      ]
     },
     "execution_count": 75,
     "metadata": {},
     "output_type": "execute_result"
    },
    {
     "data": {
      "image/png": "[encoded data removed]",
      "text/plain": [
       "<matplotlib.figure.Figure at 0xd827a58>"
      ]
     },
     "metadata": {},
     "output_type": "display_data"
    }
   ],
   "source": [
    "model = GMM_EM(2, data_scaled.values)\n",
    "mus, iters = model.run()\n",
    "\n",
    "print(\"Done with\", iters, \"iterations.\")\n",
    "\n",
    "mus1 = pd.DataFrame({data.columns[0]: mus[0][0], data.columns[1]: mus[0][1]})\n",
    "mus2 = pd.DataFrame({data.columns[0]: mus[1][0], data.columns[1]: mus[1][1]})\n",
    "\n",
    "plt.figure()\n",
    "plt.scatter(data_scaled.iloc[:, 0], data_scaled.iloc[:, 1], label=\"data\", alpha=1)\n",
    "plt.xlabel(data.columns[0], fontsize=14)\n",
    "plt.ylabel(data.columns[1], fontsize=14)\n",
    "plt.plot(data.columns[0], data.columns[1], data=mus1, label='c1', marker='o', markerfacecolor='yellow', markersize=8, color='skyblue', linewidth=2)\n",
    "plt.plot(data.columns[0], data.columns[1], data=mus2, label='c2', marker='s', markerfacecolor='purple', markersize=8, color='pink', linewidth=2)\n",
    "plt.legend()"
   ]
  },
  {
   "cell_type": "code",
   "execution_count": 47,
   "metadata": {},
   "outputs": [
    {
     "ename": "NameError",
     "evalue": "name 'log_likelyhoods' is not defined",
     "output_type": "error",
     "traceback": [
      "\u001b[1;31m---------------------------------------------------------------------------\u001b[0m",
      "\u001b[1;31mNameError\u001b[0m                                 Traceback (most recent call last)",
      "\u001b[1;32m<ipython-input-47-ec49e0a24bc7>\u001b[0m in \u001b[0;36m<module>\u001b[1;34m()\u001b[0m\n\u001b[1;32m----> 1\u001b[1;33m \u001b[0mlog_likelyhoods\u001b[0m\u001b[1;33m\u001b[0m\u001b[0m\n\u001b[0m",
      "\u001b[1;31mNameError\u001b[0m: name 'log_likelyhoods' is not defined"
     ]
    }
   ],
   "source": [
    "log_likelyhoods"
   ]
  },
  {
   "cell_type": "code",
   "execution_count": 45,
   "metadata": {
    "scrolled": true
   },
   "outputs": [
    {
     "name": "stdout",
     "output_type": "stream",
     "text": [
      "start\n"
     ]
    },
    {
     "ename": "UnboundLocalError",
     "evalue": "local variable 'remain' referenced before assignment",
     "output_type": "error",
     "traceback": [
      "\u001b[1;31m---------------------------------------------------------------------------\u001b[0m",
      "\u001b[1;31mUnboundLocalError\u001b[0m                         Traceback (most recent call last)",
      "\u001b[1;32m<ipython-input-45-95b1a4ae4e50>\u001b[0m in \u001b[0;36m<module>\u001b[1;34m()\u001b[0m\n\u001b[0;32m      1\u001b[0m \u001b[1;32mprint\u001b[0m \u001b[1;34m'start'\u001b[0m\u001b[1;33m\u001b[0m\u001b[0m\n\u001b[0;32m      2\u001b[0m \u001b[0mmodel\u001b[0m \u001b[1;33m=\u001b[0m \u001b[0mGMM_EM\u001b[0m\u001b[1;33m(\u001b[0m\u001b[1;36m2\u001b[0m\u001b[1;33m,\u001b[0m \u001b[0mdata_scaled\u001b[0m\u001b[1;33m)\u001b[0m\u001b[1;33m\u001b[0m\u001b[0m\n\u001b[1;32m----> 3\u001b[1;33m \u001b[0mmus\u001b[0m\u001b[1;33m,\u001b[0m \u001b[0miters\u001b[0m \u001b[1;33m=\u001b[0m \u001b[0mmodel\u001b[0m\u001b[1;33m.\u001b[0m\u001b[0mrun\u001b[0m\u001b[1;33m(\u001b[0m\u001b[1;33m)\u001b[0m\u001b[1;33m\u001b[0m\u001b[0m\n\u001b[0m\u001b[0;32m      4\u001b[0m \u001b[1;32mprint\u001b[0m \u001b[0miters\u001b[0m\u001b[1;33m\u001b[0m\u001b[0m\n\u001b[0;32m      5\u001b[0m \u001b[1;32mprint\u001b[0m \u001b[1;34m'end'\u001b[0m\u001b[1;33m\u001b[0m\u001b[0m\n",
      "\u001b[1;32m<ipython-input-44-6eb11f78b582>\u001b[0m in \u001b[0;36mrun\u001b[1;34m(self, init_mu, init_cov)\u001b[0m\n\u001b[0;32m     81\u001b[0m     \u001b[1;31m# this will iterate iter_num，or stopiteration when approaching - Epsilon\u001b[0m\u001b[1;33m\u001b[0m\u001b[1;33m\u001b[0m\u001b[0m\n\u001b[0;32m     82\u001b[0m     \u001b[1;32mdef\u001b[0m \u001b[0mrun\u001b[0m\u001b[1;33m(\u001b[0m\u001b[0mself\u001b[0m\u001b[1;33m,\u001b[0m \u001b[0minit_mu\u001b[0m\u001b[1;33m=\u001b[0m\u001b[0mNone\u001b[0m\u001b[1;33m,\u001b[0m \u001b[0minit_cov\u001b[0m\u001b[1;33m=\u001b[0m\u001b[0mNone\u001b[0m\u001b[1;33m)\u001b[0m\u001b[1;33m:\u001b[0m\u001b[1;33m\u001b[0m\u001b[0m\n\u001b[1;32m---> 83\u001b[1;33m         \u001b[0mmu\u001b[0m\u001b[1;33m,\u001b[0m \u001b[0mcov\u001b[0m\u001b[1;33m,\u001b[0m \u001b[0mpi\u001b[0m \u001b[1;33m=\u001b[0m \u001b[0mself\u001b[0m\u001b[1;33m.\u001b[0m\u001b[0m__get_init_params\u001b[0m\u001b[1;33m(\u001b[0m\u001b[1;33m)\u001b[0m\u001b[1;33m\u001b[0m\u001b[0m\n\u001b[0m\u001b[0;32m     84\u001b[0m \u001b[1;33m\u001b[0m\u001b[0m\n\u001b[0;32m     85\u001b[0m         \u001b[1;32mif\u001b[0m \u001b[0minit_mu\u001b[0m \u001b[1;32mis\u001b[0m \u001b[1;32mnot\u001b[0m \u001b[0mNone\u001b[0m\u001b[1;33m:\u001b[0m\u001b[1;33m\u001b[0m\u001b[0m\n",
      "\u001b[1;32m<ipython-input-44-6eb11f78b582>\u001b[0m in \u001b[0;36m__get_init_params\u001b[1;34m(self)\u001b[0m\n\u001b[0;32m     27\u001b[0m         \u001b[1;32mfor\u001b[0m \u001b[0mrand\u001b[0m \u001b[1;32min\u001b[0m \u001b[0mpi_rand\u001b[0m\u001b[1;33m:\u001b[0m\u001b[1;33m\u001b[0m\u001b[0m\n\u001b[0;32m     28\u001b[0m             \u001b[0mpi\u001b[0m\u001b[1;33m.\u001b[0m\u001b[0mappend\u001b[0m\u001b[1;33m(\u001b[0m\u001b[0mrand\u001b[0m\u001b[1;33m)\u001b[0m\u001b[1;33m\u001b[0m\u001b[0m\n\u001b[1;32m---> 29\u001b[1;33m             \u001b[0mremain\u001b[0m \u001b[1;33m-=\u001b[0m \u001b[0mrand\u001b[0m \u001b[1;33m*\u001b[0m \u001b[0mremain\u001b[0m\u001b[1;33m\u001b[0m\u001b[0m\n\u001b[0m\u001b[0;32m     30\u001b[0m         \u001b[0mpi\u001b[0m\u001b[1;33m.\u001b[0m\u001b[0mappend\u001b[0m\u001b[1;33m(\u001b[0m\u001b[0mremain\u001b[0m\u001b[1;33m)\u001b[0m\u001b[1;33m\u001b[0m\u001b[0m\n\u001b[0;32m     31\u001b[0m         \u001b[0mpi\u001b[0m \u001b[1;33m=\u001b[0m \u001b[0mnp\u001b[0m\u001b[1;33m.\u001b[0m\u001b[0marray\u001b[0m\u001b[1;33m(\u001b[0m\u001b[0mpi\u001b[0m\u001b[1;33m)\u001b[0m\u001b[1;33m\u001b[0m\u001b[0m\n",
      "\u001b[1;31mUnboundLocalError\u001b[0m: local variable 'remain' referenced before assignment"
     ]
    }
   ],
   "source": [
    "print 'start'\n",
    "model = GMM_EM(2, data_scaled)\n",
    "mus, iters = model.run()\n",
    "print iters\n",
    "print 'end'\n",
    "\n",
    "mus1 = pd.DataFrame({'data1': mus[0][0], 'data2': mus[0][1]}).values\n",
    "mus2 = pd.DataFrame({'data1': mus[1][0], 'data2': mus[1][1]}).values\n",
    "\n",
    "plt.figure()\n",
    "plt.scatter(data_scaled[:, 0], data_scaled[:, 1], label=\"data\", alpha=1)\n",
    "plt.plot(mus1[:,0], mus1[:,1], label='c1', marker='o', color='blue')\n",
    "plt.plot(mus2[:,0], mus2[:,1], label='c2', marker='o', color='pink')\n",
    "plt.show()"
   ]
  },
  {
   "cell_type": "code",
   "execution_count": 496,
   "metadata": {},
   "outputs": [
    {
     "name": "stdout",
     "output_type": "stream",
     "text": [
      "end\n"
     ]
    }
   ],
   "source": [
    "interationNum = []\n",
    "model = GMM_EM(2, data_scaled)\n",
    "for _ in range(50):\n",
    "    mus, iters = model.run()\n",
    "    interationNum.append(iters)\n",
    "print 'end'"
   ]
  },
  {
   "cell_type": "code",
   "execution_count": 521,
   "metadata": {
    "scrolled": true
   },
   "outputs": [
    {
     "data": {
      "text/plain": [
       "(array([0., 0., 0., 0., 0., 0., 0., 0., 0., 0., 0., 0., 0., 0., 1., 0., 0.,\n",
       "        0., 0., 0., 0., 3., 2., 1., 0., 0., 3.]),\n",
       " array([ 0,  1,  2,  3,  4,  5,  6,  7,  8,  9, 10, 11, 12, 13, 14, 15, 16,\n",
       "        17, 18, 19, 20, 21, 22, 23, 24, 25, 26, 27]),\n",
       " <a list of 27 Patch objects>)"
      ]
     },
     "execution_count": 521,
     "metadata": {},
     "output_type": "execute_result"
    },
    {
     "data": {
      "image/png": "[encoded data removed]",
      "text/plain": [
       "<Figure size 432x288 with 1 Axes>"
      ]
     },
     "metadata": {
      "needs_background": "light"
     },
     "output_type": "display_data"
    }
   ],
   "source": [
    "plt.hist(interationNum, bins=range(max(interationNum) + 1), align='left', rwidth=1)"
   ]
  },
  {
   "cell_type": "code",
   "execution_count": 548,
   "metadata": {},
   "outputs": [
    {
     "data": {
      "text/latex": [
       "\n",
       "(d) Repeat the task in (c) but with the initial guesses of the parameters generated from the fol- lowing process:\n",
       "• Run a k-means algorithm over all the data points with K = 2 and label each point with one of the two clusters.\n",
       "• Estimate the first guess of the mean and covariance matrices using maximum likelihood over the labeled data points.\n",
       "Compare the algorithm performances of (c) and (d)."
      ],
      "text/plain": [
       "<IPython.core.display.Latex object>"
      ]
     },
     "metadata": {},
     "output_type": "display_data"
    }
   ],
   "source": [
    "%%latex\n",
    "\n",
    "(d) Repeat the task in (c) but with the initial guesses of the parameters generated from the fol- lowing process:\n",
    "• Run a k-means algorithm over all the data points with K = 2 and label each point with one of the two clusters.\n",
    "• Estimate the first guess of the mean and covariance matrices using maximum likelihood over the labeled data points.\n",
    "Compare the algorithm performances of (c) and (d)."
   ]
  },
  {
   "cell_type": "code",
   "execution_count": 509,
   "metadata": {},
   "outputs": [],
   "source": [
    "def runKmeans(show=False):\n",
    "    kmeans = KMeans(n_clusters=2, random_state=50).fit(data_scaled)\n",
    "    pred = kmeans.predict(data_scaled)\n",
    "    \n",
    "    c1 = data_scaled[pred==0]\n",
    "    c2 = data_scaled[pred==1]\n",
    "    \n",
    "    if show == True:\n",
    "\n",
    "        mu = kmeans.cluster_centers_\n",
    "        cov = [np.cov(c1), np.cov(c2)]\n",
    "        plt.scatter(data_scaled[:, 0], data_scaled[:, 1], c=pred)\n",
    "    \n",
    "    return mu, cov"
   ]
  },
  {
   "cell_type": "code",
   "execution_count": 526,
   "metadata": {},
   "outputs": [
    {
     "name": "stdout",
     "output_type": "stream",
     "text": [
      "end\n"
     ]
    },
    {
     "data": {
      "text/plain": [
       "(array([[0.77095402, 0.69908913],\n",
       "        [0.12818076, 0.21967655]]),\n",
       " [array([[ 5.81222165e-03,  4.83896513e-03, -2.45537304e-03, ...,\n",
       "          -1.16535044e-04,  4.41699784e-03, -1.26273421e-02],\n",
       "         [ 4.83896513e-03,  4.02868042e-03, -2.04422082e-03, ...,\n",
       "          -9.70212509e-05,  3.67737155e-03, -1.05128937e-02],\n",
       "         [-2.45537304e-03, -2.04422082e-03,  1.03727234e-03, ...,\n",
       "           4.92302294e-05, -1.86596074e-03,  5.33442069e-03],\n",
       "         ...,\n",
       "         [-1.16535044e-04, -9.70212509e-05,  4.92302294e-05, ...,\n",
       "           2.33652763e-06, -8.85608067e-05,  2.53178210e-04],\n",
       "         [ 4.41699784e-03,  3.67737155e-03, -1.86596074e-03, ...,\n",
       "          -8.85608067e-05,  3.35669751e-03, -9.59614866e-03],\n",
       "         [-1.26273421e-02, -1.05128937e-02,  5.33442069e-03, ...,\n",
       "           2.53178210e-04, -9.59614866e-03,  2.74335322e-02]]),\n",
       "  array([[ 1.13107286e-02,  1.22840999e-02, -1.05400586e-02, ...,\n",
       "           1.01553316e-02, -7.56075588e-03, -4.05807862e-04],\n",
       "         [ 1.22840999e-02,  1.33412370e-02, -1.14471080e-02, ...,\n",
       "           1.10292725e-02, -8.21141448e-03, -4.40730611e-04],\n",
       "         [-1.05400586e-02, -1.14471080e-02,  9.82189901e-03, ...,\n",
       "          -9.46338591e-03,  7.04559470e-03,  3.78157657e-04],\n",
       "         ...,\n",
       "         [ 1.01553316e-02,  1.10292725e-02, -9.46338591e-03, ...,\n",
       "           9.11795904e-03, -6.78842060e-03, -3.64354371e-04],\n",
       "         [-7.56075588e-03, -8.21141448e-03,  7.04559470e-03, ...,\n",
       "          -6.78842060e-03,  5.05405366e-03,  2.71265829e-04],\n",
       "         [-4.05807862e-04, -4.40730611e-04,  3.78157657e-04, ...,\n",
       "          -3.64354371e-04,  2.71265829e-04,  1.45596298e-05]])])"
      ]
     },
     "execution_count": 526,
     "metadata": {},
     "output_type": "execute_result"
    },
    {
     "data": {
      "image/png": "[encoded data removed]",
      "text/plain": [
       "<Figure size 432x288 with 1 Axes>"
      ]
     },
     "metadata": {
      "needs_background": "light"
     },
     "output_type": "display_data"
    }
   ],
   "source": [
    "interationNumK = []\n",
    "model = GMM_EM(2, data_scaled)\n",
    "for _ in range(10):\n",
    "    init_mu, init_cov = runKmeans(True)\n",
    "    mus, iters = model.run()\n",
    "    interationNumK.append(iters)\n",
    "\n",
    "print 'end'\n",
    "runKmeans(True)"
   ]
  },
  {
   "cell_type": "code",
   "execution_count": 527,
   "metadata": {
    "scrolled": true
   },
   "outputs": [
    {
     "data": {
      "text/plain": [
       "(array([0., 0., 0., 0., 0., 0., 0., 0., 0., 0., 0., 0., 0., 0., 0., 0., 0.,\n",
       "        0., 1., 3., 2., 1., 3.]),\n",
       " array([ 0,  1,  2,  3,  4,  5,  6,  7,  8,  9, 10, 11, 12, 13, 14, 15, 16,\n",
       "        17, 18, 19, 20, 21, 22, 23]),\n",
       " <a list of 23 Patch objects>)"
      ]
     },
     "execution_count": 527,
     "metadata": {},
     "output_type": "execute_result"
    },
    {
     "data": {
      "image/png": "[encoded data removed]",
      "text/plain": [
       "<Figure size 432x288 with 1 Axes>"
      ]
     },
     "metadata": {
      "needs_background": "light"
     },
     "output_type": "display_data"
    }
   ],
   "source": [
    "plt.hist(interationNumK, bins=range(max(interationNumK) + 1), align='left', rwidth=1)"
   ]
  }
 ],
 "metadata": {
  "kernelspec": {
   "display_name": "Python [conda env:py27]",
   "language": "python",
   "name": "conda-env-py27-py"
  },
  "language_info": {
   "codemirror_mode": {
    "name": "ipython",
    "version": 2
   },
   "file_extension": ".py",
   "mimetype": "text/x-python",
   "name": "python",
   "nbconvert_exporter": "python",
   "pygments_lexer": "ipython2",
   "version": "2.7.15"
  }
 },
 "nbformat": 4,
 "nbformat_minor": 2
}
