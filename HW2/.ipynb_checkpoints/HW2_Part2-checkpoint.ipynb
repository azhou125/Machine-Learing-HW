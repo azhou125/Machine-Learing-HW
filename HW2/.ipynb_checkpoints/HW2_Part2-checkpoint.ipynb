{
 "cells": [
  {
   "cell_type": "markdown",
   "metadata": {},
   "source": [
    "## Question (a)"
   ]
  },
  {
   "cell_type": "code",
   "execution_count": 23,
   "metadata": {
    "scrolled": true
   },
   "outputs": [],
   "source": [
    "import pandas as pd\n",
    "import numpy as np\n",
    "from sklearn import cross_validation, naive_bayes , metrics, \n",
    "\n",
    "df = pd.read_json('./all/train.json')"
   ]
  },
  {
   "cell_type": "markdown",
   "metadata": {},
   "source": [
    "## Question (b)"
   ]
  },
  {
   "cell_type": "code",
   "execution_count": 2,
   "metadata": {},
   "outputs": [
    {
     "data": {
      "text/plain": [
       "39774"
      ]
     },
     "execution_count": 2,
     "metadata": {},
     "output_type": "execute_result"
    }
   ],
   "source": [
    "num_obs = df.shape[0]\n",
    "num_obs"
   ]
  },
  {
   "cell_type": "markdown",
   "metadata": {},
   "source": [
    "Total number of the samples is: 39774"
   ]
  },
  {
   "cell_type": "code",
   "execution_count": 3,
   "metadata": {},
   "outputs": [
    {
     "name": "stdout",
     "output_type": "stream",
     "text": [
      "[u'greek' u'southern_us' u'filipino' u'indian' u'jamaican' u'spanish'\n",
      " u'italian' u'mexican' u'chinese' u'british' u'thai' u'vietnamese'\n",
      " u'cajun_creole' u'brazilian' u'french' u'japanese' u'irish' u'korean'\n",
      " u'moroccan' u'russian']\n",
      "20\n"
     ]
    }
   ],
   "source": [
    "cuisine_array=df.cuisine.unique()\n",
    "print cuisine_array\n",
    "print cuisine_array.size"
   ]
  },
  {
   "cell_type": "markdown",
   "metadata": {},
   "source": [
    "There are totally 20 types of cuisines."
   ]
  },
  {
   "cell_type": "code",
   "execution_count": 4,
   "metadata": {},
   "outputs": [],
   "source": [
    "ingredients_collection=df['ingredients'].values\n",
    "# print ingredients_collection\n",
    "\n",
    "ingredients = set()\n",
    "for i in ingredients_collection:\n",
    "    ingredients = ingredients.union(i)\n",
    "    \n",
    "ing_list = list(ingredients)"
   ]
  },
  {
   "cell_type": "code",
   "execution_count": 5,
   "metadata": {},
   "outputs": [
    {
     "data": {
      "text/plain": [
       "6714"
      ]
     },
     "execution_count": 5,
     "metadata": {},
     "output_type": "execute_result"
    }
   ],
   "source": [
    "len(ing_list)"
   ]
  },
  {
   "cell_type": "markdown",
   "metadata": {},
   "source": [
    "There are totally 6714 unique ingredients."
   ]
  },
  {
   "cell_type": "markdown",
   "metadata": {},
   "source": [
    "## Question (c)"
   ]
  },
  {
   "cell_type": "code",
   "execution_count": 9,
   "metadata": {},
   "outputs": [
    {
     "name": "stdout",
     "output_type": "stream",
     "text": [
      "start\n",
      "(39774L, 6714L)\n",
      "end\n",
      "Wall time: 3min 27s\n"
     ]
    }
   ],
   "source": [
    "%%time\n",
    "print 'start'\n",
    "featureList = []\n",
    "\n",
    "for i in range(num_obs): #len(trainData)\n",
    "    feature = [0] * len(ing_list)\n",
    "    sub_list = ingredients_collection[i]\n",
    "    for j in range(len(ing_list)):\n",
    "        if ing_list[j] in sub_list:\n",
    "            #print (\"yes\",ing_list[j],j)\n",
    "            feature[j] = 1\n",
    "    featureList.append(feature)\n",
    "\n",
    "featureMatrix = np.matrix(featureList)\n",
    "print featureMatrix.shape\n",
    "print 'end'"
   ]
  },
  {
   "cell_type": "markdown",
   "metadata": {},
   "source": [
    "## Question (d)"
   ]
  },
  {
   "cell_type": "code",
   "execution_count": 10,
   "metadata": {},
   "outputs": [],
   "source": [
    "## Question (d)\n",
    "fold1=list(cross_validation.KFold(num_obs, n_folds=3))[0]\n",
    "fold2=list(cross_validation.KFold(num_obs, n_folds=3))[1]\n",
    "fold3=list(cross_validation.KFold(num_obs, n_folds=3))[2]"
   ]
  },
  {
   "cell_type": "code",
   "execution_count": 14,
   "metadata": {},
   "outputs": [],
   "source": [
    "def cross_validation_Naive_Bayes_evaluate(dataSet,labels,fold_indices,NB):\n",
    "    train_indices, test_indices = fold_indices\n",
    "    X_train = dataSet[train_indices]\n",
    "    Y_train = labels[train_indices]\n",
    "    X_test = dataSet[test_indices]\n",
    "    Y_test = labels[test_indices]\n",
    "    \n",
    "    if(NB == 'Bernoulli'):\n",
    "        clf = naive_bayes.BernoulliNB()\n",
    "    elif(NB == 'Gaussian'):\n",
    "        clf = naive_bayes.GaussianNB()\n",
    "    clf.fit(X_train, Y_train)\n",
    "    # BernoulliNB(alpha=1.0, binarize=0.0, class_prior=None, fit_prior=True)\n",
    "    Y_estimate = clf.predict(X_test)\n",
    "    return (Y_estimate,Y_test)"
   ]
  },
  {
   "cell_type": "code",
   "execution_count": 24,
   "metadata": {},
   "outputs": [],
   "source": [
    "def accuracy(Y_predict,Y_true):\n",
    "    return metrics.accuracy_score(Y_true, Y_predict)"
   ]
  },
  {
   "cell_type": "code",
   "execution_count": 26,
   "metadata": {},
   "outputs": [
    {
     "name": "stdout",
     "output_type": "stream",
     "text": [
      "Bernoulli\n",
      "0.684190677326897\n",
      "0.6795142555438226\n",
      "0.6869060190073918\n"
     ]
    }
   ],
   "source": [
    "print 'Bernoulli'\n",
    "(Y_predict, Y_true) = cross_validation_Naive_Bayes_evaluate(featureMatrix,df.cuisine,fold1,'Bernoulli')\n",
    "acc1 = accuracy(Y_predict,Y_true)\n",
    "print acc1\n",
    "(Y_predict, Y_true) = cross_validation_Naive_Bayes_evaluate(featureMatrix,df.cuisine,fold2,'Bernoulli')\n",
    "acc2 = accuracy(Y_predict,Y_true)\n",
    "print acc2\n",
    "(Y_predict, Y_true) = cross_validation_Naive_Bayes_evaluate(featureMatrix,df.cuisine,fold3,'Bernoulli')\n",
    "acc3 = accuracy(Y_predict,Y_true)\n",
    "print acc3"
   ]
  },
  {
   "cell_type": "code",
   "execution_count": 27,
   "metadata": {},
   "outputs": [
    {
     "name": "stdout",
     "output_type": "stream",
     "text": [
      "Gaussian\n",
      "0.37901644290239855\n",
      "0.3829386031075577\n",
      "0.37758334590435966\n"
     ]
    }
   ],
   "source": [
    "print 'Gaussian'\n",
    "(Y_predict, Y_true) = cross_validation_Naive_Bayes_evaluate(featureMatrix,df.cuisine,fold1,'Gaussian')\n",
    "acc1 = accuracy(Y_predict,Y_true)\n",
    "print acc1\n",
    "(Y_predict, Y_true) = cross_validation_Naive_Bayes_evaluate(featureMatrix,df.cuisine,fold2,'Gaussian')\n",
    "acc2 = accuracy(Y_predict,Y_true)\n",
    "print acc2\n",
    "(Y_predict, Y_true) = cross_validation_Naive_Bayes_evaluate(featureMatrix,df.cuisine,fold3,'Gaussian')\n",
    "acc3 = accuracy(Y_predict,Y_true)\n",
    "print acc3"
   ]
  },
  {
   "cell_type": "markdown",
   "metadata": {},
   "source": [
    "## Question (e)"
   ]
  },
  {
   "cell_type": "markdown",
   "metadata": {},
   "source": [
    "Bernoulli prior is much better than the Gaussian prior in terms of cross-validation accuracy.\n",
    "The reason is that the vector of each feature is a binary vector. Gaussian prior works better when the values of feature are\n",
    "continuous values."
   ]
  },
  {
   "cell_type": "markdown",
   "metadata": {},
   "source": [
    "## Question (f)"
   ]
  },
  {
   "cell_type": "code",
   "execution_count": 34,
   "metadata": {},
   "outputs": [],
   "source": [
    "from sklearn.linear_model import LogisticRegression"
   ]
  },
  {
   "cell_type": "code",
   "execution_count": 35,
   "metadata": {},
   "outputs": [],
   "source": [
    "def cross_validation_Logistic_Regression_evaluate(dataSet,labels,fold_indices):\n",
    "    train_indices, test_indices = fold_indices\n",
    "    X_train = dataSet[train_indices]\n",
    "    Y_train = labels[train_indices]\n",
    "    X_test = dataSet[test_indices]\n",
    "    Y_test = labels[test_indices]\n",
    "        \n",
    "    clf = LogisticRegression(multi_class='ovr')\n",
    "    clf.fit(X_train, Y_train)\n",
    "    Y_estimate = clf.predict(X_test)\n",
    "    return (Y_estimate,Y_test)"
   ]
  },
  {
   "cell_type": "code",
   "execution_count": 36,
   "metadata": {},
   "outputs": [
    {
     "name": "stdout",
     "output_type": "stream",
     "text": [
      "Logistic Regression\n",
      "0.7758334590435964\n",
      "0.7721375773118118\n",
      "0.7786996530396741\n"
     ]
    }
   ],
   "source": [
    "print 'Logistic Regression'\n",
    "(Y_predict, Y_true) = cross_validation_Logistic_Regression_evaluate(featureMatrix,df.cuisine,fold1)\n",
    "acc1 = accuracy(Y_predict,Y_true)\n",
    "print acc1\n",
    "(Y_predict, Y_true) = cross_validation_Logistic_Regression_evaluate(featureMatrix,df.cuisine,fold2)\n",
    "acc2 = accuracy(Y_predict,Y_true)\n",
    "print acc2\n",
    "(Y_predict, Y_true) = cross_validation_Logistic_Regression_evaluate(featureMatrix,df.cuisine,fold3)\n",
    "acc3 = accuracy(Y_predict,Y_true)\n",
    "print acc3"
   ]
  },
  {
   "cell_type": "markdown",
   "metadata": {},
   "source": [
    "## Question (g)"
   ]
  },
  {
   "cell_type": "markdown",
   "metadata": {},
   "source": [
    "The best-performed classiﬁer is logistic regression classifier."
   ]
  },
  {
   "cell_type": "code",
   "execution_count": 30,
   "metadata": {},
   "outputs": [
    {
     "name": "stdout",
     "output_type": "stream",
     "text": [
      "start\n",
      "(59662L, 6714L)\n",
      "end\n"
     ]
    }
   ],
   "source": [
    "df2 = pd.read_json('./all/test.json')\n",
    "\n",
    "print 'start'\n",
    "featureList2 = []\n",
    "\n",
    "for i in range(df2.shape[0]): #len(trainData)\n",
    "    feature = [0] * len(ing_list)\n",
    "    sub_list = (df2['ingredients'].values)[i]\n",
    "    for j in range(len(ing_list)):\n",
    "            feature[j] = 1\n",
    "    featureList.append(feature)\n",
    "\n",
    "featureMatrix2 = np.matrix(featureList)\n",
    "print featureMatrix2.shape\n",
    "print 'end'"
   ]
  },
  {
   "cell_type": "code",
   "execution_count": 44,
   "metadata": {},
   "outputs": [],
   "source": [
    "clf = LogisticRegression(multi_class='ovr')\n",
    "clf.fit(featureMatrix, df.cuisine)\n",
    "Y_estimate = clf.predict(featureMatrix2)"
   ]
  },
  {
   "cell_type": "code",
   "execution_count": 48,
   "metadata": {},
   "outputs": [
    {
     "ename": "KeyError",
     "evalue": "9944L",
     "output_type": "error",
     "traceback": [
      "\u001b[1;31m---------------------------------------------------------------------------\u001b[0m",
      "\u001b[1;31mKeyError\u001b[0m                                  Traceback (most recent call last)",
      "\u001b[1;32m<ipython-input-48-ffc2395f8c68>\u001b[0m in \u001b[0;36m<module>\u001b[1;34m()\u001b[0m\n\u001b[0;32m      9\u001b[0m     \u001b[0mwriter\u001b[0m\u001b[1;33m.\u001b[0m\u001b[0mwriterow\u001b[0m\u001b[1;33m(\u001b[0m\u001b[1;33m{\u001b[0m\u001b[1;34m'id'\u001b[0m\u001b[1;33m:\u001b[0m \u001b[1;34m'id'\u001b[0m\u001b[1;33m,\u001b[0m \u001b[1;34m'cuisine'\u001b[0m\u001b[1;33m:\u001b[0m \u001b[1;34m'cuisine'\u001b[0m\u001b[1;33m}\u001b[0m\u001b[1;33m)\u001b[0m\u001b[1;33m\u001b[0m\u001b[0m\n\u001b[0;32m     10\u001b[0m     \u001b[1;32mfor\u001b[0m \u001b[0mi\u001b[0m \u001b[1;32min\u001b[0m \u001b[0mrange\u001b[0m\u001b[1;33m(\u001b[0m\u001b[0mlen\u001b[0m\u001b[1;33m(\u001b[0m\u001b[0mY_estimate\u001b[0m\u001b[1;33m)\u001b[0m\u001b[1;33m)\u001b[0m\u001b[1;33m:\u001b[0m\u001b[1;33m\u001b[0m\u001b[0m\n\u001b[1;32m---> 11\u001b[1;33m         \u001b[0mwriter\u001b[0m\u001b[1;33m.\u001b[0m\u001b[0mwriterow\u001b[0m\u001b[1;33m(\u001b[0m\u001b[1;33m{\u001b[0m\u001b[1;34m'id'\u001b[0m\u001b[1;33m:\u001b[0m \u001b[0mdf2\u001b[0m\u001b[1;33m[\u001b[0m\u001b[1;34m'id'\u001b[0m\u001b[1;33m]\u001b[0m\u001b[1;33m[\u001b[0m\u001b[0mi\u001b[0m\u001b[1;33m]\u001b[0m\u001b[1;33m,\u001b[0m \u001b[1;34m'cuisine'\u001b[0m\u001b[1;33m:\u001b[0m \u001b[0mY_estimate\u001b[0m\u001b[1;33m[\u001b[0m\u001b[0mi\u001b[0m\u001b[1;33m]\u001b[0m\u001b[1;33m}\u001b[0m\u001b[1;33m)\u001b[0m\u001b[1;33m\u001b[0m\u001b[0m\n\u001b[0m\u001b[0;32m     12\u001b[0m \u001b[1;33m\u001b[0m\u001b[0m\n\u001b[0;32m     13\u001b[0m \u001b[1;32mprint\u001b[0m \u001b[1;34m\"done\"\u001b[0m\u001b[1;33m\u001b[0m\u001b[0m\n",
      "\u001b[1;32mC:\\Users\\AngZhou\\Anaconda3\\envs\\py27\\lib\\site-packages\\pandas\\core\\series.pyc\u001b[0m in \u001b[0;36m__getitem__\u001b[1;34m(self, key)\u001b[0m\n\u001b[0;32m    765\u001b[0m         \u001b[0mkey\u001b[0m \u001b[1;33m=\u001b[0m \u001b[0mcom\u001b[0m\u001b[1;33m.\u001b[0m\u001b[0m_apply_if_callable\u001b[0m\u001b[1;33m(\u001b[0m\u001b[0mkey\u001b[0m\u001b[1;33m,\u001b[0m \u001b[0mself\u001b[0m\u001b[1;33m)\u001b[0m\u001b[1;33m\u001b[0m\u001b[0m\n\u001b[0;32m    766\u001b[0m         \u001b[1;32mtry\u001b[0m\u001b[1;33m:\u001b[0m\u001b[1;33m\u001b[0m\u001b[0m\n\u001b[1;32m--> 767\u001b[1;33m             \u001b[0mresult\u001b[0m \u001b[1;33m=\u001b[0m \u001b[0mself\u001b[0m\u001b[1;33m.\u001b[0m\u001b[0mindex\u001b[0m\u001b[1;33m.\u001b[0m\u001b[0mget_value\u001b[0m\u001b[1;33m(\u001b[0m\u001b[0mself\u001b[0m\u001b[1;33m,\u001b[0m \u001b[0mkey\u001b[0m\u001b[1;33m)\u001b[0m\u001b[1;33m\u001b[0m\u001b[0m\n\u001b[0m\u001b[0;32m    768\u001b[0m \u001b[1;33m\u001b[0m\u001b[0m\n\u001b[0;32m    769\u001b[0m             \u001b[1;32mif\u001b[0m \u001b[1;32mnot\u001b[0m \u001b[0mis_scalar\u001b[0m\u001b[1;33m(\u001b[0m\u001b[0mresult\u001b[0m\u001b[1;33m)\u001b[0m\u001b[1;33m:\u001b[0m\u001b[1;33m\u001b[0m\u001b[0m\n",
      "\u001b[1;32mC:\\Users\\AngZhou\\Anaconda3\\envs\\py27\\lib\\site-packages\\pandas\\core\\indexes\\base.pyc\u001b[0m in \u001b[0;36mget_value\u001b[1;34m(self, series, key)\u001b[0m\n\u001b[0;32m   3116\u001b[0m         \u001b[1;32mtry\u001b[0m\u001b[1;33m:\u001b[0m\u001b[1;33m\u001b[0m\u001b[0m\n\u001b[0;32m   3117\u001b[0m             return self._engine.get_value(s, k,\n\u001b[1;32m-> 3118\u001b[1;33m                                           tz=getattr(series.dtype, 'tz', None))\n\u001b[0m\u001b[0;32m   3119\u001b[0m         \u001b[1;32mexcept\u001b[0m \u001b[0mKeyError\u001b[0m \u001b[1;32mas\u001b[0m \u001b[0me1\u001b[0m\u001b[1;33m:\u001b[0m\u001b[1;33m\u001b[0m\u001b[0m\n\u001b[0;32m   3120\u001b[0m             \u001b[1;32mif\u001b[0m \u001b[0mlen\u001b[0m\u001b[1;33m(\u001b[0m\u001b[0mself\u001b[0m\u001b[1;33m)\u001b[0m \u001b[1;33m>\u001b[0m \u001b[1;36m0\u001b[0m \u001b[1;32mand\u001b[0m \u001b[0mself\u001b[0m\u001b[1;33m.\u001b[0m\u001b[0minferred_type\u001b[0m \u001b[1;32min\u001b[0m \u001b[1;33m[\u001b[0m\u001b[1;34m'integer'\u001b[0m\u001b[1;33m,\u001b[0m \u001b[1;34m'boolean'\u001b[0m\u001b[1;33m]\u001b[0m\u001b[1;33m:\u001b[0m\u001b[1;33m\u001b[0m\u001b[0m\n",
      "\u001b[1;32mpandas\\_libs\\index.pyx\u001b[0m in \u001b[0;36mpandas._libs.index.IndexEngine.get_value\u001b[1;34m()\u001b[0m\n",
      "\u001b[1;32mpandas\\_libs\\index.pyx\u001b[0m in \u001b[0;36mpandas._libs.index.IndexEngine.get_value\u001b[1;34m()\u001b[0m\n",
      "\u001b[1;32mpandas\\_libs\\index.pyx\u001b[0m in \u001b[0;36mpandas._libs.index.IndexEngine.get_loc\u001b[1;34m()\u001b[0m\n",
      "\u001b[1;32mpandas\\_libs\\hashtable_class_helper.pxi\u001b[0m in \u001b[0;36mpandas._libs.hashtable.Int64HashTable.get_item\u001b[1;34m()\u001b[0m\n",
      "\u001b[1;32mpandas\\_libs\\hashtable_class_helper.pxi\u001b[0m in \u001b[0;36mpandas._libs.hashtable.Int64HashTable.get_item\u001b[1;34m()\u001b[0m\n",
      "\u001b[1;31mKeyError\u001b[0m: 9944L"
     ]
    }
   ],
   "source": [
    "# Output the solution\n",
    "import csv\n",
    "\n",
    "file_name = \"submission.csv\"\n",
    "with open(file_name, mode='wb') as submission_file:\n",
    "    fieldnames = ['id', 'cuisine']\n",
    "    writer = csv.DictWriter(submission_file, fieldnames=fieldnames)\n",
    "    \n",
    "    writer.writerow({'id': 'id', 'cuisine': 'cuisine'})\n",
    "    for i in range(len(Y_estimate)):\n",
    "        writer.writerow({'id': df2['id'][i], 'cuisine': Y_estimate[i]})\n",
    "    \n",
    "print \"done\""
   ]
  },
  {
   "cell_type": "code",
   "execution_count": 49,
   "metadata": {},
   "outputs": [
    {
     "data": {
      "text/plain": [
       "(9944L,)"
      ]
     },
     "execution_count": 49,
     "metadata": {},
     "output_type": "execute_result"
    }
   ],
   "source": [
    "df2['id'].shape"
   ]
  },
  {
   "cell_type": "code",
   "execution_count": 50,
   "metadata": {},
   "outputs": [
    {
     "data": {
      "text/plain": [
       "(59662L,)"
      ]
     },
     "execution_count": 50,
     "metadata": {},
     "output_type": "execute_result"
    }
   ],
   "source": [
    "Y_estimate.shape"
   ]
  }
 ],
 "metadata": {
  "kernelspec": {
   "display_name": "Python [conda env:py27]",
   "language": "python",
   "name": "conda-env-py27-py"
  },
  "language_info": {
   "codemirror_mode": {
    "name": "ipython",
    "version": 2
   },
   "file_extension": ".py",
   "mimetype": "text/x-python",
   "name": "python",
   "nbconvert_exporter": "python",
   "pygments_lexer": "ipython2",
   "version": "2.7.15"
  }
 },
 "nbformat": 4,
 "nbformat_minor": 2
}
